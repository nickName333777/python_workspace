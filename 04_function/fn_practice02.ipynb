{
 "cells": [
  {
   "cell_type": "code",
   "execution_count": null,
   "id": "1aec6b0d",
   "metadata": {},
   "outputs": [],
   "source": []
  },
  {
   "cell_type": "markdown",
   "id": "b61c999c",
   "metadata": {},
   "source": [
    "### 로또 번호 생성기\n",
    "1 ~ 45 사이의 중복 없는 번호 6개를 정렬해 출력하시오"
   ]
  },
  {
   "cell_type": "code",
   "execution_count": null,
   "id": "5f2df9bb",
   "metadata": {},
   "outputs": [
    {
     "name": "stdout",
     "output_type": "stream",
     "text": [
      "로또 번호 :  [5, 6, 16, 27, 28, 40]\n",
      "로또 번호 :  None\n"
     ]
    }
   ],
   "source": [
    "import random # 난수 생성을 위해 사용\n",
    "\n",
    "def generate_lotto():\n",
    "    #print('로또')\n",
    "    # random.sample(범위, 개수) : 중복 없이 지정 개수만큼 뽑아서 리스트로 반환 (범위: list 또는 generator, 혹은 문자열 와야함)\n",
    "    # range(1, 46) : 1이상 46미만 (== 1~45)\n",
    "    # sorted(): 리스트를 오름차순으로 정렬하여 새 리스트 반환\n",
    "    \n",
    "    #return random.sample(range(1,46), 6)\n",
    "    return sorted(random.sample(range(1,46), 6))\n",
    "\n",
    "\n",
    "#print(\"로또 번호 : \", sorted(generate_lotto())) # [5, 6, 16, 27, 28, 40], mutable연산 (not-in-place)\n",
    "#print(\"로또 번호 : \", list(generate_lotto()).sort()) # None (리턴값) immutable연산 (in-place)\n",
    "\n",
    "print(\"로또 번호 : \", generate_lotto()) # [5, 6, 16, 27, 28, 40], mutable연산 (not-in-place)\n",
    "print(\"로또 번호 : \", generate_lotto().sort()) # None (리턴값) immutable연산 (in-place)"
   ]
  },
  {
   "cell_type": "markdown",
   "id": "ccac226d",
   "metadata": {},
   "source": []
  },
  {
   "cell_type": "markdown",
   "id": "f3e60d6a",
   "metadata": {},
   "source": [
    "### 숫자 야구 게임\n",
    "서로 다른  3자리 숫자를 맞추는 게임\n",
    "규칙 : <br>\n",
    "    - strike : 숫자와 위치가 모두 일치 <br>\n",
    "    - ball : 숫자는 포함되지만 위치가 다름 <br>\n",
    "    - out : 하나도 포함되지 않음 <br>\n",
    "    - 입력은 3자리 정수이고, 문자열, 중복 숫자는 불가\n",
    "    - 확장: 3자리 -> n자리"
   ]
  },
  {
   "cell_type": "code",
   "execution_count": null,
   "id": "3cf94be4",
   "metadata": {},
   "outputs": [
    {
     "name": "stdout",
     "output_type": "stream",
     "text": [
      "926\n",
      "형식 오류 : 숫자만 중복없이 3자리로 입력하세요.\n",
      "strike: 2, ball: 1 입니다. 다시 시도해 보세요.\n",
      "정답! 2번 만에 맞췄습니다\n"
     ]
    }
   ],
   "source": [
    "import random\n",
    "\n",
    "def make_answer():\n",
    "    \"\"\" 3자리 서로 다른 숫자로 정답 문자열 생성 \"\"\"\n",
    "    answer = random.sample(\"0123456789\", 3)\n",
    "    #answer = random.sample(range(0, 10), 3)\n",
    "    # range(0, 10) : int\n",
    "    \n",
    "    \n",
    "    #return answer # 리스트를 문자열로 합치기\n",
    "    #return \"\".join([str(s) for s in answer]) # 리스트를 문자열로 합치기\n",
    "    #return \"\".join(str(s) for s in answer) # 튜플을 문자열로 합치기\n",
    "    return \"\".join(answer) # 문자열에서 뽑아 문자열로 합치기\n",
    "\n",
    "#print(make_answer())\n",
    "\n",
    "\n",
    "# 유효성검사 함수\n",
    "def valid_guess(guess):\n",
    "    \"\"\" \n",
    "    유효성 검사 \n",
    "    - 전부 숫자인가?\n",
    "    - 길이가 3인가?\n",
    "    - 중복 숫자가 없는가?\n",
    "    \"\"\"\n",
    "    return guess.isdigit() and len(guess) == 3 and len(set(guess)) == 3\n",
    "# isdigit() : 숫자면 True, 아니면 False 반환\n",
    "\n",
    "# print(valid_guess('str')) # False\n",
    "# print(valid_guess('123')) # True\n",
    "# print(valid_guess('1234')) # False\n",
    "# print(valid_guess('122')) # False\n",
    "\n",
    "\n",
    "def judge(answer, guess):\n",
    "    \"\"\"\n",
    "    입력(guess)를 비밀번호(answer)와 비교하여\n",
    "    strike 개수, ball 개수를 반환 (strike과 ball을 알면 out은 그걸로 판단가능)\n",
    "    \"\"\"\n",
    "    # 같은 자리의 숫자가 같은지 비교하여 strike계산\n",
    "    # answer : 123\n",
    "    # guess :  125\n",
    "    #          SS   \n",
    "    \n",
    "    strikes =  sum( a==g for a, g in  zip(answer, guess) )\n",
    "    \n",
    "    # guess의 각 문자가 정답(answer)에 포함되는지 확인\n",
    "    # -> 전체 포함 개수 - strike의 수 = ball의 수\n",
    "    # answer : 123\n",
    "    # guess : 213\n",
    "    # strike -> 1, ball -> 2\n",
    "    #balls = len(set(guess).intersection(set(answer))) - strikes\n",
    "    #return strikes, balls\n",
    "\n",
    "    balls =  sum(g in answer for g in guess) - strikes\n",
    "    return strikes, balls\n",
    "\n",
    "    \n",
    "    # ball = len(set(guess).intersection(set(answer))) - strike # 전체 포함 갯수 - strike수\n",
    "    #  \n",
    "    # strike = [ ]\n",
    "    # ball = [ ]\n",
    "    # out = 0;\n",
    "    # for i, ch in enumerate(guess):\n",
    "    #     if ch == answer[i]:\n",
    "    #         strike.append(\"Strike\")\n",
    "    #        \n",
    "    \n",
    "    \n",
    "\n",
    "# print(judge('123', '125')) # (2, 0)\n",
    "# print(judge('123', '213')) # (1, 2)\n",
    "\n",
    "\n",
    "attempts = 0 # 시도 횟수\n",
    "answer = make_answer()  # 정답 생성\n",
    "LENGTH = 3              # 자리수 설정\n",
    "#print(answer) # 정답 확인용\n",
    "\n",
    "\n",
    "while True :  # 언제끝날지 모르는 사용자 입력(무한반복)\n",
    "    guess = input(\"3자리 숫자 입력(중복 불가) : \")\n",
    "    \n",
    "    # 유효성 검사\n",
    "    if not valid_guess(guess):\n",
    "        print(\"형식 오류 : 숫자만 중복없이 3자리로 입력하세요.\")\n",
    "        continue # 유효성 검사 실패시 하단 코드 실행않고 다음 반복으로\n",
    "        \n",
    "    # 판정\n",
    "    attempts += 1\n",
    "    \n",
    "    strikes, balls = judge(answer, guess)\n",
    "    \n",
    "    if strikes == 3:\n",
    "        print(f'정답! {attempts}번 만에 맞췄습니다')\n",
    "        break\n",
    "    elif strikes == 0 and balls == 0 :# 하나도 맞춘게 없는 경우\n",
    "        print(f\"하나도 못맞췄습니다. out입니다. 다시 시도해 보세요.\")\n",
    "        continue\n",
    "    else:\n",
    "        print(f'strike: {strikes}, ball: {attempts} 입니다. 다시 시도해 보세요.')\n",
    "        continue\n",
    "        \n",
    "    "
   ]
  },
  {
   "cell_type": "code",
   "execution_count": null,
   "id": "c82298cf",
   "metadata": {},
   "outputs": [],
   "source": [
    "num3 = input(\"3자리 다른수 입력 ex) 123: \")\n",
    "answer = random.sample(range(0, 10), 3)\n",
    "for i, ch in enumerate(num3):\n",
    "    ch == answer[i]"
   ]
  },
  {
   "cell_type": "markdown",
   "id": "4127726b",
   "metadata": {},
   "source": [
    "### 유클리드 호제법\n",
    "유클리드 호제법은 두 정수의 최대공약수(GCD, Greatest Common Divisor)를 아주 빠르게 구하는 알고리즘\n",
    "\n",
    "약수: 나눴을 때 나머지가 0\n",
    "\n",
    "공약수: 두 수의 공통된 약수 \n",
    "\n",
    "최대 공약수: 두 수를 나누어 떨어지게 하는 공약수들 중 가장 큰 수"
   ]
  },
  {
   "cell_type": "code",
   "execution_count": 38,
   "id": "1aacbdd3",
   "metadata": {},
   "outputs": [
    {
     "name": "stdout",
     "output_type": "stream",
     "text": [
      "gcd(12, 18) =  6\n",
      "gcd(21, 28) =  7\n",
      "gcd(21, 28) =  21\n"
     ]
    }
   ],
   "source": [
    "def gcd(a, b):\n",
    "    \"\"\"\n",
    "    최대 공약수 구하기 : 1부터 두 수 중 작은 수 까지 나눠보면서 둘 다 나누어 떨어지는 가장 큰 수\n",
    "    \"\"\"\n",
    "    \n",
    "    result = 1 # 최소 공약수는 1이상이므로 초기값 1\n",
    "    for i in range(1, min(a, b)+1): # 1부터 작은 수 까지 반복\n",
    "        if a%i == 0 and b%i == 0:   # 둘 다 나누어 떨어지면 i는 공약수다.\n",
    "            result = i              # i는 공약수\n",
    "\n",
    "    return result\n",
    "    \n",
    "    \n",
    "    \n",
    "#print(min(10, 2))    # 2\n",
    "print('gcd(12, 18) = ', gcd(12, 18)) # 6\n",
    "print('gcd(21, 28) = ', gcd(21, 28)) # 7\n",
    "print('gcd(21, 28) = ', gcd(252, 105)) # 7\n",
    "\n",
    "        \n",
    "    "
   ]
  },
  {
   "cell_type": "markdown",
   "id": "61b5d3e9",
   "metadata": {},
   "source": [
    "### 최대 공약수 구하는 공식\n",
    "gcd(a, b) = gcd(b, a%b)\n",
    "\n",
    "ex) gcd(252, 105) -> gcd(105, 42) -> gcd(21, 0) : 최대 공약수는 21"
   ]
  },
  {
   "cell_type": "code",
   "execution_count": null,
   "id": "624e621c",
   "metadata": {},
   "outputs": [
    {
     "name": "stdout",
     "output_type": "stream",
     "text": [
      "6\n",
      "6\n",
      "21\n"
     ]
    }
   ],
   "source": [
    "def gcd(a, b):\n",
    "    \"\"\"\n",
    "    gcd(a, b) = gcd(b, a%b)를 b가 0이 될때까지 반복 \n",
    "    이때,b가 0일때의 a가 최대 공약수\n",
    "    # \"\"\"\n",
    "    # if b==0:\n",
    "    #     return a\n",
    "    # else:\n",
    "    #     return gcd(b, a%b)\n",
    "    #\n",
    "    #### one-liner (재귀함수):\n",
    "    return a if b==0 else gcd(b, a%b)\n",
    "    \n",
    "print(gcd(12, 18))  #  6\n",
    "print(gcd(18, 12))  #  6\n",
    "print(gcd(252, 105))  # 21"
   ]
  },
  {
   "cell_type": "code",
   "execution_count": null,
   "id": "db3da8e0",
   "metadata": {},
   "outputs": [
    {
     "name": "stdout",
     "output_type": "stream",
     "text": [
      "6\n",
      "21\n"
     ]
    }
   ],
   "source": [
    "def gcd(a, b):\n",
    "    \"\"\"\n",
    "    gcd(a, b) = gcd(b, a%b)를 b가 0이 될때까지 반복 \n",
    "    이때,b가 0일때의 a가 최대 공약수\n",
    "    # \"\"\"\n",
    "    # if b==0:\n",
    "    #     return a\n",
    "    # else:\n",
    "    #     return gcd(b, a%b)\n",
    "    \n",
    "    \n",
    "    while b != 0:       # b가 0이 아닌 경우 반복\n",
    "        a, b = b, a%b   # (큰 수, 작은 수) -> (작은 수, 나머지)\n",
    "    \n",
    "    return a            # b가 0일 때의 a가 최대공약수\n",
    "    \n",
    "print(gcd(12, 18))  #  6\n",
    "print(gcd(252, 105))  # 21"
   ]
  },
  {
   "cell_type": "code",
   "execution_count": null,
   "id": "d2367c47",
   "metadata": {},
   "outputs": [
    {
     "name": "stdout",
     "output_type": "stream",
     "text": [
      "6\n",
      "21\n",
      "lcm(21, 28) : 84\n"
     ]
    }
   ],
   "source": [
    "from math import gcd, lcm # 이미 만들어진 함수 있다.\n",
    "\n",
    "print(gcd(12, 18))  #  6\n",
    "print(gcd(252, 105))  # 21\n",
    "\n",
    "# lcd(Least Common Multiple) : 최소 공배수\n",
    "# 모두 나누어 떨어지는 가장 작은 수\n",
    "# python3.9버전이상 부터 available\n",
    "print(f'lcm(21, 28) : {lcm(21, 28)}') # 84 (Python 3.9+)"
   ]
  },
  {
   "cell_type": "markdown",
   "id": "9e19a05d",
   "metadata": {},
   "source": [
    "### 소인수 분해(Prime Factorization)\n",
    "- 어떤 자연수를 소수(1과 자기 자신으로만 나누어지는 수)들의 곱으로 나타내는 것 (12 = 2**2 x 3)"
   ]
  },
  {
   "cell_type": "code",
   "execution_count": 60,
   "id": "73cc761f",
   "metadata": {},
   "outputs": [
    {
     "name": "stdout",
     "output_type": "stream",
     "text": [
      "{2: 3, 3: 2, 5: 1}\n",
      "2^3 * 3^2 * 5\n",
      "31\n",
      "1 => 1 또는 소인수 없음\n",
      "2 => 2\n",
      "12 => 2^2 * 3\n",
      "360 => 2^3 * 3^2 * 5\n",
      "99991 => 99991\n",
      "1000000000000 => 2^12 * 5^12\n"
     ]
    }
   ],
   "source": [
    "from math import isqrt #(Integer Square Root) : 정수 제곱근\n",
    "from collections import Counter # Counter() : 카운팅 전용 딕셔너리 (ex: Counter([1,2,2])) -> {'1': 1, '2':2}\n",
    "\n",
    "def prime_factors(n):\n",
    "    \"\"\"\n",
    "    정수 n의 소인수 분해 결과를 {소수 : 지수}형태의 딕셔너리로 반환\n",
    "    예) n = 360 -> {2: 3, 3:2, 5: 1} = 2**3 x 3**2 x 5**1\n",
    "    \"\"\"\n",
    "    \n",
    "    # 소인수 분해 대상이 아닌것들 먼저 걸러준다.\n",
    "    # 1또는 0, 음수는 소인수 분해의 대상이 아니므로 빈 딕셔너리 반환\n",
    "    if n<2 :\n",
    "        return {}\n",
    "    \n",
    "    \n",
    "    # 1) 2로 최대한 나누기 (짝수 인수 제거) ==> 2로 계속 나누어서 승수값 얻기\n",
    "    factors = Counter() # 소수 - 지수 카운팅용 (예: 12일때 ->  {2:3, 3:2})\n",
    "    while n%2 == 0:\n",
    "        factors[2] += 1\n",
    "        n//=2 # n = n // 2 다음반복\n",
    "        \n",
    "    # 2) 남은수 n에 대해 홀수 인수를 시도(3,5,7, ...)\n",
    "    # isqrt(n) : n의 제곱근의 정수 부분 -> 그 이하까지만 검사해도 충분하다.\n",
    "    #  예: 100 = 2 x 50 = 4 x 25 = 5 x 20 = 10 x 10 <-- isqrt(100) = 10\n",
    "    # 홀수중 가장 작은값은 3\n",
    "    \n",
    "    f = 3\n",
    "    while f<=isqrt(n) : # 위에서 짝수인 경우는 모두 걸러졌음\n",
    "        # 현재 홀수 f로 나누어 떨어지는 동안 게속 나누어 지수 증가 --> 나누어떨어지지 않을때까지 하고, 다음에 다음 홀수 5로 계속 같은방식 진행\n",
    "        while n%f == 0:\n",
    "            factors[f] += 1\n",
    "            n //= f # n = n//f\n",
    "            \n",
    "        f +=2 # 다음 홀수로 이동\n",
    "        \n",
    "        \n",
    "    # 3) 모든 반복이 끝났을때, n이 1보다 크면, n자체가 소수인 경우 (ex: 31 -> 2, 3, 5 로 안나누어짐)\n",
    "    if n>1:\n",
    "        factors[n] += 1 # ex: 31한개 있다.\n",
    "            \n",
    "    #return factors\n",
    "    return dict(factors)\n",
    "    \n",
    "# print(isqrt(100)) # 10, 제곱근의 정수 부분\n",
    "# print(isqrt(150)) # 12\n",
    "# print(isqrt(45)) # 6\n",
    "\n",
    "print(prime_factors(360)) # {2: 3, 3: 2, 5: 1}\n",
    "\n",
    "\n",
    "def format_factorization(factors):\n",
    "    \"\"\"\n",
    "    소인수분해 결과(딕셔너리)를 문자열로 변환\n",
    "    ex) {2:3, 3:2, 5:1} -> \"2^3 * 3^2 * 5\"\n",
    "    \"\"\"\n",
    "    # 빈 딕셔너리인 경우\n",
    "    if not factors:\n",
    "        return \"1 또는 소인수 없음\"\n",
    "    \n",
    "    factors_strs = []\n",
    "    # 소수 기준 오름차순 정렬 후 지수가 1이면 p, 1보다 크면 p^e 형식으로 표현\n",
    "    # p = prime(소수, prime number)\n",
    "    # e = exponent(지수, 몇 번 곱해졌는지)\n",
    "    for p, e in sorted(factors.items()):        \n",
    "        # .items() : 딕셔너리의 (키, 값)쌍들을 튜플로 묶어서 돌려주는 메소드\n",
    "        # sorted() : 정렬된 새 리스트 반환\n",
    "        # -> [(2,3) (3,2) (5,1)]\n",
    "        #f'{p}^{e}' if e != 1 else f'{p}'\n",
    "        factors_strs.append(f'{p}^{e}' if e > 1 else f'{p}')\n",
    "    \n",
    "    return \" * \".join(factors_strs) # 리스트 -> 문자열로 join\n",
    "\n",
    "\n",
    "print(format_factorization(prime_factors(360))) # '2^3*3^2*5'\n",
    "print(format_factorization(prime_factors(31))) # '31'\n",
    "\n",
    "#[1,2,12, 360, 99991, 10**12]\n",
    "for num in [1,2,12, 360, 99991, 10**12]:\n",
    "    fac = prime_factors(num)\n",
    "    #print(f'{num} ==> {format_factorization(fac)}')\n",
    "    print(num, \"=>\", format_factorization(fac))"
   ]
  },
  {
   "cell_type": "markdown",
   "id": "2c29d945",
   "metadata": {},
   "source": []
  }
 ],
 "metadata": {
  "kernelspec": {
   "display_name": "Python 3",
   "language": "python",
   "name": "python3"
  },
  "language_info": {
   "codemirror_mode": {
    "name": "ipython",
    "version": 3
   },
   "file_extension": ".py",
   "mimetype": "text/x-python",
   "name": "python",
   "nbconvert_exporter": "python",
   "pygments_lexer": "ipython3",
   "version": "3.13.9"
  }
 },
 "nbformat": 4,
 "nbformat_minor": 5
}
