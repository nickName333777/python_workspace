{
 "cells": [
  {
   "cell_type": "markdown",
   "id": "4fa4a465",
   "metadata": {},
   "source": [
    "## map\n",
    "iterable 객체의 각 요소에 대해 지정한 함수를 적용하고,\n",
    "그 결과를 \"map 객체\"로 반환 (값 변환용; map값을 보려면, for문 돌리거나 list감싸줘야 한다.)\n",
    "\n",
    "### map(function, iterable) -> map"
   ]
  },
  {
   "cell_type": "code",
   "execution_count": null,
   "id": "baaeefaa",
   "metadata": {},
   "outputs": [
    {
     "name": "stdout",
     "output_type": "stream",
     "text": [
      "<map object at 0x000001D211374AF0> <class 'map'>\n",
      "[1, 4, 9, 16, 25] <class 'list'>\n"
     ]
    }
   ],
   "source": [
    "nums = [1, 2, 3, 4, 5]\n",
    "\n",
    "result = map(lambda x: x**2, nums) \n",
    "print(result, type(result)) # <map object at 0x000001D211374AF0> <class 'map'>\n",
    "\n",
    "result = list(result)\n",
    "print(result, type(result)) # [1, 4, 9, 16, 25] <class 'list'>"
   ]
  },
  {
   "cell_type": "code",
   "execution_count": null,
   "id": "86f2c307",
   "metadata": {},
   "outputs": [],
   "source": []
  },
  {
   "cell_type": "code",
   "execution_count": null,
   "id": "18647044",
   "metadata": {},
   "outputs": [
    {
     "name": "stdout",
     "output_type": "stream",
     "text": [
      "[9, 5, 6, 4]\n",
      "[9, 5, 6, 4]\n"
     ]
    },
    {
     "data": {
      "text/plain": [
       "[9, 5, 6, 4]"
      ]
     },
     "execution_count": 6,
     "metadata": {},
     "output_type": "execute_result"
    }
   ],
   "source": [
    "# 다음 문자열 리스트를 문자열 길이 리스트로 반환\n",
    "\n",
    "coffee: list[str] = ['아이스 아메리카노', '카페 라떼', '바닐라 라떼', '믹스커피']\n",
    "\n",
    "print([len(x) for x in coffee]) # 리스트 내포\n",
    "print(list((lambda x: len(x))(n) for n in coffee)) # 람다함수 + 튜플 내포\n",
    "\n",
    "# map(함수, iterable)\n",
    "result = list(map(lambda x: len(x), coffee))  # map 함수(변환기) + 람다함수\n",
    "#result = list(map(len(), coffee))  # map 함수(변환기) + len() -> 함수실행 (X)\n",
    "result = list(map(len, coffee)) # map 함수(변환기) + len함수; 같은 결과 \n",
    "                                # map값을 보려면, for문 돌리거나 list감싸줘야 한다.\n",
    "#print(result)\n",
    "\n",
    "#### 주피터 노트북에서는 마지막 줄에 print()구문이 없어도 출력해줌\n",
    "result"
   ]
  },
  {
   "cell_type": "code",
   "execution_count": 9,
   "id": "843790af",
   "metadata": {},
   "outputs": [
    {
     "data": {
      "text/plain": [
       "[77.5, 72.5, 62.0]"
      ]
     },
     "execution_count": 9,
     "metadata": {},
     "output_type": "execute_result"
    }
   ],
   "source": [
    "# 여러 시퀀스 객체 통합\n",
    "mid_term = [95, 45, 80]\n",
    "final_term = [60, 100, 44]\n",
    "\n",
    "# 중간고사와 기말고사의 평균\n",
    "#avg_score = list(map(lambda x, y: (x+y)/2, mid_term, final_term)) # map값을 보려면, for문 돌리거나 list감싸줘야 한다.\n",
    "#avg_score = list(map(lambda x: sum(x)/len(x), zip(mid_term, final_term)))\n",
    "avg_score = [(x+y)/2 for x, y in zip(mid_term, final_term)]\n",
    "avg_score"
   ]
  },
  {
   "cell_type": "markdown",
   "id": "b779b7ba",
   "metadata": {},
   "source": [
    "## filter \n",
    "주어진 iterable 객체에 대해 참/거짓 평가 후 참인 요소들만 결과값으로 반환\n",
    "\n",
    "### filter(function, iterable) -> filter"
   ]
  },
  {
   "cell_type": "code",
   "execution_count": null,
   "id": "71bdd8ff",
   "metadata": {},
   "outputs": [
    {
     "name": "stdout",
     "output_type": "stream",
     "text": [
      "[2, 4, 6, 8, 10]\n",
      "[2, 4, 6, 8, 10]\n"
     ]
    }
   ],
   "source": [
    "nums = [1, 2, 3, 4, 5, 6, 7, 8, 9, 10]\n",
    "\n",
    "# 짝수만 리스트 만들기\n",
    "evens = [x for x in nums if x%2 == 0] # 리스트 내포\n",
    "print(list(evens))\n",
    "\n",
    "#evens = filter(lambda x: x if x%2 == 0 else \"\", nums) # filter함수 + lambda함수\n",
    "evens = filter(lambda n: n%2 == 0, nums) # filter함수 + lambda함수(True/False값 반환하는 함수) => filter함수는 True인 경우만 값 반환 \n",
    "\n",
    "print(list(evens))"
   ]
  },
  {
   "cell_type": "code",
   "execution_count": 16,
   "id": "5707fb88",
   "metadata": {},
   "outputs": [
    {
     "data": {
      "text/plain": [
       "['홍길동', '홍진경']"
      ]
     },
     "execution_count": 16,
     "metadata": {},
     "output_type": "execute_result"
    }
   ],
   "source": [
    "# 다음 이름 중 홍씨만 리스트로 반환\n",
    "names: list[str] = ['홍길동', '고길동', '최홍만', '홍진경', '김길동']\n",
    "\n",
    "#hong_family = list(filter(lambda s:s[0] == '홍', names)) # T/F판단 함수: lambda s:s[0] == '홍'\n",
    "#hong_family = [s for s in names if s[0]=='홍'] # list 내포\n",
    "hong_family = list(filter(lambda s:s.startswith('홍'), names))\n",
    "hong_family"
   ]
  },
  {
   "cell_type": "code",
   "execution_count": null,
   "id": "04c79aa9",
   "metadata": {},
   "outputs": [
    {
     "data": {
      "text/plain": [
       "[{'name': '논개', 'score': 99}, {'name': '강감찬', 'score': 91}]"
      ]
     },
     "execution_count": 19,
     "metadata": {},
     "output_type": "execute_result"
    }
   ],
   "source": [
    "# 90점 이상인 우수학생 필터링\n",
    "students = [\n",
    "    { 'name' : '이순신', 'score' : 80},\n",
    "    { 'name' : '윤봉길', 'score' : 75},\n",
    "    { 'name' : '논개', 'score' : 99},\n",
    "    { 'name' : '강감찬', 'score' : 91},\n",
    "]\n",
    "\n",
    "#best_students = list(filter(lambda x:x['score'] >= 90, students)) # 필터함수\n",
    "best_students = [ x for x in students if x['score'] >= 90] # 리스트 내포\n",
    "best_students"
   ]
  },
  {
   "cell_type": "markdown",
   "id": "ccc4ff86",
   "metadata": {},
   "source": [
    "### reduce\n",
    "\n",
    "iterable 객체의 요소에 대한 연산 결과를 단일값 반환. (합계, 최대, 최소값 등의 연산에 적합)\n",
    "\n",
    "### reduce(function, iterable, initial_value) -> Any\n",
    "\n",
    "함수는 3개의 인자를 받는다.\n",
    "1. 누적 연산값\n",
    "2. 현재 요소\n",
    "3. 초기값(선택)\n"
   ]
  },
  {
   "cell_type": "code",
   "execution_count": null,
   "id": "cf10abf3",
   "metadata": {},
   "outputs": [
    {
     "name": "stdout",
     "output_type": "stream",
     "text": [
      "55\n",
      "sum : 0, current : 1\n",
      "sum : 1, current : 2\n",
      "sum : 3, current : 3\n",
      "sum : 6, current : 4\n",
      "sum : 10, current : 5\n",
      "sum : 15, current : 6\n",
      "sum : 21, current : 7\n",
      "sum : 28, current : 8\n",
      "sum : 36, current : 9\n",
      "sum : 45, current : 10\n"
     ]
    },
    {
     "data": {
      "text/plain": [
       "55"
      ]
     },
     "execution_count": 31,
     "metadata": {},
     "output_type": "execute_result"
    }
   ],
   "source": [
    "from functools import reduce  # builtin함수는 아니다\n",
    "\n",
    "# 1 ~ 10 숫자 합\n",
    "\n",
    "nums =  [1, 2, 3, 4, 5, 6, 7, 8, 9, 10]\n",
    "\n",
    "#total = list(reduce(sum, nums)) # TypeError: 'int' object is not iterable\n",
    "#total = reduce(sum, nums) # TypeError: 'int' object is not iterable\n",
    "##total = list(reduce(lambda sum, current: sum + current,  nums)) # TypeError: 'int' object is not iterable\n",
    "total = reduce(lambda sum, current: sum + current,  nums)\n",
    "print(total)\n",
    "\n",
    "def my_func(sum, current):\n",
    "    print(f'sum : {sum}, current : {current}')\n",
    "    return sum + current\n",
    "\n",
    "\n",
    "#total =  reduce(my_func, nums) # 초기값이 없으면 첫번째 요소가 초기값으로 사용 ( 1 -> sum) => 1부터 ( sum: 누적연산값, current: 현재요소) \n",
    "total =  reduce(my_func, nums, 0) # 초기값이 없으면 첫번째 요소가 초기값으로 사용 ( 1 -> sum) => 0부터( sum: 누적연산값, current: 현재요소) \n",
    "total"
   ]
  },
  {
   "cell_type": "code",
   "execution_count": null,
   "id": "c746d92a",
   "metadata": {},
   "outputs": [
    {
     "data": {
      "text/plain": [
       "2345235"
      ]
     },
     "execution_count": 27,
     "metadata": {},
     "output_type": "execute_result"
    }
   ],
   "source": [
    "# 요소들의 최대값 반환\n",
    "nums = [32, 124, 23, 4353, -123, 0, 2345235, -8712]\n",
    "\n",
    "max_num = reduce(lambda max, current: max if max > current else current, nums) #초기값 지정없으면, 맨앞에 32가 초기값에 담김(max=32), 맨마지막에 max의 값이 max_num으로 assign됨\n",
    "max_num"
   ]
  },
  {
   "cell_type": "code",
   "execution_count": 42,
   "id": "eaf68962",
   "metadata": {},
   "outputs": [
    {
     "name": "stdout",
     "output_type": "stream",
     "text": [
      "max : {'name': '이순신', 'score': 80}, current : {'name': '윤봉길', 'score': 75}\n",
      "max : {'name': '이순신', 'score': 80}, current : {'name': '논개', 'score': 99}\n",
      "max : {'name': '논개', 'score': 99}, current : {'name': '강감찬', 'score': 91}\n"
     ]
    },
    {
     "data": {
      "text/plain": [
       "{'name': '논개', 'score': 99}"
      ]
     },
     "execution_count": 42,
     "metadata": {},
     "output_type": "execute_result"
    }
   ],
   "source": [
    "# 최고점수 학생 출력\n",
    "students = [\n",
    "    { 'name' : '이순신', 'score' : 80},\n",
    "    { 'name' : '윤봉길', 'score' : 75},\n",
    "    { 'name' : '논개', 'score' : 99},\n",
    "    { 'name' : '강감찬', 'score' : 91},\n",
    "]\n",
    "\n",
    "#max_student = reduce(lambda max, current: max if max > current else current, students) # TypeError: '>' not supported between instances of 'dict' and 'dict'\n",
    "#max_student = reduce(lambda max, current: max['score'] if max['score'] > current['score'] else current['score'], students) # TypeError: 'int' object is not subscriptable\n",
    "max_student = reduce(lambda max, current: max if max['score'] > current['score'] else current, students) # {'name': '논개', 'score': 99}\n",
    "\n",
    "# lambda를 일반함수로 풀어보자\n",
    "def my_func(max, current):\n",
    "    print(f'max : {max}, current : {current}')\n",
    "    return max if max['score'] > current['score'] else current\n",
    "\n",
    "max_student = reduce(my_func, students)\n",
    "max_student"
   ]
  }
 ],
 "metadata": {
  "kernelspec": {
   "display_name": "Python 3",
   "language": "python",
   "name": "python3"
  },
  "language_info": {
   "codemirror_mode": {
    "name": "ipython",
    "version": 3
   },
   "file_extension": ".py",
   "mimetype": "text/x-python",
   "name": "python",
   "nbconvert_exporter": "python",
   "pygments_lexer": "ipython3",
   "version": "3.13.9"
  }
 },
 "nbformat": 4,
 "nbformat_minor": 5
}
