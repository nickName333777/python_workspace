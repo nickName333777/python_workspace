{
 "cells": [
  {
   "cell_type": "code",
   "execution_count": 1,
   "id": "2962a803",
   "metadata": {},
   "outputs": [
    {
     "name": "stdout",
     "output_type": "stream",
     "text": [
      "a\n"
     ]
    }
   ],
   "source": [
    "print('a')"
   ]
  },
  {
   "cell_type": "markdown",
   "id": "eccd3c77",
   "metadata": {},
   "source": [
    "# 이진 탐색 트리 (Binary Search Tree, BST) : \n",
    "(이진트리: 각 노드가 최대 2개 자식 노드를 가질수 있는 트리(0, 1, 2 자식노드 가질수 있음); 이진탐색트리: 이진트리이면서, 왼쪽자식은 항상 작은값)\n",
    "\n",
    "- 왼쪽 서브트리는 항상 현재 노드보다 작은 값들\n",
    "- 오른쪽 서브트리는 항상 현재 노드보다 큰 값들\n",
    "- 중복 키는 저장하지 않음\n",
    "\n",
    "\n",
    "### 전위(preorder) 순회 : Root(2)-> Left(1) -> Right(3)  ==> 2, 1, 3\n",
    "### 중위(inorder) 순회 :  Left -> Root -> Right\n",
    "### 후위(postorder) 순회 :Left -> Right -> Root\n",
    "(트리를 순회하는 순서에 따른 트리탐색 방법 3가지)\n",
    "(차수: 노드의 자식 갯수; 이진 탐색트리에서는 차수가 최대 2 (0, 1, 2밖에 없다))\n",
    "(전체차수: 모든 노드중에 최대차수 같는 노드의 차수. 역시 최대 2)"
   ]
  },
  {
   "cell_type": "code",
   "execution_count": 18,
   "id": "4793f11c",
   "metadata": {},
   "outputs": [],
   "source": [
    "class Node:\n",
    "    def __init__(self, key):\n",
    "        self.key = key # 현재 노드의 키(값): key값을 비교해서, 왼쪽/오른쪽으로 갈지 정한다.\n",
    "        self.left = None # 왼쪽 자식 \n",
    "        self.right = None # 오른쪽 자식\n",
    "        \n",
    "class BST:\n",
    "    def __init__(self):\n",
    "        self.root = None # 트리의 루트 (비어있으면 None; 최초 생성시도 None) =+> root Node(key)의 주소값을 저장\n",
    "        \n",
    "    # 삽입\n",
    "    # - 규칙 : 작은 값은 왼쪽, 큰 값은 오른쪽으로 내려가면서 삽입\n",
    "    # - 중복 값은 무시\n",
    "    def insert(self, key):\n",
    "        self.root = self._insert(self.root, key) # 최종 return되는 node에 의해 self.root == self.root라는 말\n",
    "        \n",
    "    def _insert(self, node, key):\n",
    "        #if not node:\n",
    "        if node is None: # 루트가 없는경우 (최초 생성이면 self.root == None이므로, 카값을 여기에 넣어주고 끝낸다 ==> 최초 입력되는 노드가 루트가 되는 구조, 이후 입력은 좌/우 순회를 통해 Node생성/삽입이 이루어진다.)\n",
    "            return Node(key) # 노드 생성자\n",
    "        # elif\n",
    "        # 왼쪽 탐색\n",
    "        if key < node.key: # key값이 전달받은 노드의 카값보다 작으면, 왼쪽 자식에게 넣어준다.\n",
    "            node.left = self._insert(node.left, key) # 재귀적으로 왼쪽 자식 노드가 있다면, 왼쪽 자식노드와 또 비교해야 한다.   \n",
    "        # 오른쪽 탐색\n",
    "        elif key > node.key:\n",
    "            node.right = self._insert(node.right, key) \n",
    "        ##else: # 중복인 경우: 무시\n",
    "        ##    return node?\n",
    "        # key == node.key 인 경우는 아무 변화 없음(중복 무시)\n",
    "        \n",
    "        return node # 재귀함수 다 수행하고 나면, 이 node가 최초에 입력해준 root Node이고, 이걸 insert()함수로 리턴해서 거기서 self.root값에 넣어준다.\n",
    "    \n",
    "    # 중위 순회 (inorder) ==> Depth-First-Search로 볼수 있겠다.\n",
    "    # 방문 순서 : Left -> Root -> Right\n",
    "    # - BST에서 중위 순회 결과는 오름차순 정렬과 동일 (왼쪽의 작은 값부터 print되기 때문)\n",
    "    def inorder(self, node): # 처믐에 node = root를 전달해주면 순회 시작된다.(우선 root node를 받아야함)\n",
    "        if node : \n",
    "            #print(\"@@@ node\", node.key)\n",
    "            self.inorder(node.left) # 1. 왼쪽 먼저 방문\n",
    "            print(node.key, end=\" \") # 2. 자기 자신 출력\n",
    "            self.inorder(node.right) # 3. 오른쪽 방문\n",
    "            \n",
    "            \n",
    "    # 전위 순회 (preorder) ==> Width-First-Search로 볼수 있을까? 없다.=> 이것도  Depth-First-Search 일종으로 보는게 더 적합\n",
    "    # 방문 순서 : Root -> Left -> Right\n",
    "    def preorder(self, node):  # 우선 root node를 받아야함\n",
    "        if node:\n",
    "            print(node.key, end=\" \") # root 먼저찌고,\n",
    "            self.preorder(node.left) # 왼쪽 돌고\n",
    "            self.preorder(node.right) # 오른쪽 돈다\n",
    "            \n",
    "    \n",
    "    # 후위 순회(postorder) => 이것도  Depth-First-Search 일종으로 보는게 더 적합\n",
    "    # 방문 순서 : Left -> Right -> Root\n",
    "    def postorder(self, node):\n",
    "        if node: \n",
    "            self.postorder(node.left)\n",
    "            self.postorder(node.right)\n",
    "            print(node.key, end=\" \")\n"
   ]
  },
  {
   "cell_type": "code",
   "execution_count": null,
   "id": "a1840db3",
   "metadata": {},
   "outputs": [
    {
     "name": "stdout",
     "output_type": "stream",
     "text": [
      "\n",
      "==============\n",
      "root key값:  8\n",
      "----- 중위 순회 출력 -----\n",
      "1 3 6 8 10 \n",
      "----- 전위 순회 출력 -----\n",
      "8 3 1 6 10 \n",
      "----- 후위 순회 출력 -----\n",
      "1 6 3 10 8 "
     ]
    }
   ],
   "source": [
    "print(\"----- BST생성 -----\")   \n",
    "bst = BST()\n",
    "for x in [8, 3, 10, 1, 6]:\n",
    "#for x in [10, 3, 8, 1, 6]:\n",
    "#for x in [1, 10, 3, 8, 6]:\n",
    "    bst.insert(x)\n",
    "        \n",
    "print(\"\\n==============\")\n",
    "print(\"root key값: \", bst.root.key)\n",
    "    \n",
    "    \n",
    "    \n",
    "print(\"----- 중위 순회 출력 -----\")    \n",
    "bst.inorder(bst.root) # key값으로 root값넣어준다. => 1 3 6 8 10  (항상 오름차순 정렬된 값 나온다)\n",
    "\n",
    "print(\"\\n----- 전위 순회 출력 -----\")    \n",
    "bst.preorder(bst.root) # key값으로 root값넣어준다. => 8 3 1 6 10 \n",
    "\n",
    "print(\"\\n----- 후위 순회 출력 -----\")    \n",
    "bst.postorder(bst.root) # key값으로 root값넣어준다. => 1 6 3 10 8 "
   ]
  }
 ],
 "metadata": {
  "kernelspec": {
   "display_name": "Python 3",
   "language": "python",
   "name": "python3"
  },
  "language_info": {
   "codemirror_mode": {
    "name": "ipython",
    "version": 3
   },
   "file_extension": ".py",
   "mimetype": "text/x-python",
   "name": "python",
   "nbconvert_exporter": "python",
   "pygments_lexer": "ipython3",
   "version": "3.13.9"
  }
 },
 "nbformat": 4,
 "nbformat_minor": 5
}
