{
 "cells": [
  {
   "cell_type": "markdown",
   "id": "d0a440a2",
   "metadata": {},
   "source": [
    "# 큐(Queue) : FIFO(First-In, First-Out)\n",
    "\n",
    "- enqueue : 뒤에 넣기 -> 리스트의 append\n",
    "- dequeue : 앞에서 빼기 \n",
    "- front : 맨 앞 요소 확인(삭제X) -> stack의 peek처럼\n",
    "- is_empty : 비어있는지 확인\n",
    "- dequeue_all : 전부 비우기\n"
   ]
  },
  {
   "cell_type": "code",
   "execution_count": null,
   "id": "44cced56",
   "metadata": {},
   "outputs": [],
   "source": [
    "from collections import deque # 양방향 queue하기위해 (양쪽에서 집어넣고, 꺼내고 가능 => 큐내부의 값 shift를 효율적 연산하게 구현해 놓은 모듈)\n",
    "# deque : 양쪽 끝에서 삽입/삭제가 모두 가능\n",
    "# queue : 한쪽 방향만 가능(FIFO)\n",
    "\n",
    "# 리스트로 구현할 수도 있지만, 앞에서 값꺼내면, 모든 원소를 왼쪽으로 한칸씩 shift해주는 연산필요 => 그래서 그냥 collections.deque를 사용해서 Queue를 구현해보자\n",
    "\n",
    "class Queue: \n",
    "    def __init__(self):\n",
    "        self.q = deque() # list()로 구현하면, 큐내부 값 shift연산이 비효율적이므로, collections.deque()이용\n",
    "        \n",
    "    def enqueue(self, x):\n",
    "        # 뒤(오른쪽)에 요소를 추가 -> 큐의 표준 삽입 위치\n",
    "        self.q.append(x) # 평균 O(1)\n",
    "        \n",
    "    def dequeue(self):\n",
    "        # 앞(왼쪽)에서 요소 제거\n",
    "        # 비어있으면 예외를 발생시켜서 알리기\n",
    "        if self.is_empty():\n",
    "            raise IndexError(\"dequeue from empty queue\") # Java의 throw Exception과 같다고 보면 된다.\n",
    "        return self.q.popleft() # 앞(왼쪽)에서 꺼내기: 평균 O(1)\n",
    "    \n",
    "    def is_empty(self):\n",
    "        # 비어있으면 True, 아니면 False\n",
    "        # deque는 비어있을 때 False로 평가됨 (리스트, 딕셔너리처럼)\n",
    "        return not self.q\n",
    "    \n",
    "    def front(self):\n",
    "        # 맨 앞 요소를 확인만 (삭제 X, 꺼내지 않는다)\n",
    "        if self.is_empty():\n",
    "            raise IndexError(\"index out of range\")\n",
    "        return self.q[0] # 맨뒤는 self.q[-1], 시간복잡도 O(1)\n",
    "    \n",
    "    def dequeue_all(self):\n",
    "        # 모든 요소 제거\n",
    "        self.q.clear()\n",
    "        \n",
    "    def __str__(self):\n",
    "        return f'queue({list(self.q)})' # list(): 출력문구 쉽게 보기위해\n",
    "    "
   ]
  },
  {
   "cell_type": "code",
   "execution_count": null,
   "id": "c5226811",
   "metadata": {},
   "outputs": [
    {
     "name": "stdout",
     "output_type": "stream",
     "text": [
      "10\n",
      "queue([10, 20])\n",
      "10\n",
      "queue([20])\n",
      "False\n",
      "True\n",
      "queue([])\n"
     ]
    }
   ],
   "source": [
    "q = Queue()\n",
    "q.enqueue(10) # [10]\n",
    "q.enqueue(20) # [20]\n",
    "\n",
    "print(q.front()) # 10 (맨 앞 확인)\n",
    "print(q) # queue([10, 20])\n",
    "\n",
    "print(q.dequeue()) # 10 -> queue([20])\n",
    "print(q) # queue([20])\n",
    "print(q.is_empty()) #  False\n",
    "\n",
    "q.dequeue_all()\n",
    "print(q.is_empty()) # True\n",
    "print(q) # queue([]) \n",
    "\n",
    "# 비었는데 꺼내는것 --> underflow\n",
    "# 꽉차있는데 더 넣는것 --> overflow"
   ]
  }
 ],
 "metadata": {
  "kernelspec": {
   "display_name": "Python 3",
   "language": "python",
   "name": "python3"
  },
  "language_info": {
   "codemirror_mode": {
    "name": "ipython",
    "version": 3
   },
   "file_extension": ".py",
   "mimetype": "text/x-python",
   "name": "python",
   "nbconvert_exporter": "python",
   "pygments_lexer": "ipython3",
   "version": "3.13.9"
  }
 },
 "nbformat": 4,
 "nbformat_minor": 5
}
