{
 "cells": [
  {
   "cell_type": "markdown",
   "id": "c547ed69",
   "metadata": {},
   "source": [
    "# 스택(Stack) : LIFO(Last-In, First-Out) 구조\n",
    "\n",
    "- push(x) : 맨 위에 x 넣기\n",
    "- pop() : 맨 위에서 꺼내기\n",
    "- peek(): 맨 위 값 보기(꺼내지 않음)\n",
    "- is_empty() : 비어있는지 확인\n",
    "- size() : 요소 개수\n"
   ]
  },
  {
   "cell_type": "code",
   "execution_count": 1,
   "id": "2e310190",
   "metadata": {},
   "outputs": [
    {
     "name": "stdout",
     "output_type": "stream",
     "text": [
      "a\n"
     ]
    }
   ],
   "source": [
    "print('a')"
   ]
  },
  {
   "cell_type": "code",
   "execution_count": null,
   "id": "b8acda83",
   "metadata": {},
   "outputs": [
    {
     "name": "stdout",
     "output_type": "stream",
     "text": [
      "30\n",
      "[10, 20, 30]\n",
      "30\n",
      "2\n",
      "[10, 20]\n",
      "False\n",
      "20\n",
      "10\n",
      "[]\n"
     ]
    }
   ],
   "source": [
    "class Stack:\n",
    "    def __init__(self):\n",
    "        self.items = [] # Stack class를 파이썬 list로 구현하겠다... 는 이야기(리스트로 스택처럼 동작하게)\n",
    "        \n",
    "    def push(self, item):\n",
    "        # 리스트의 맨 뒤가 스택의 위(top) 역할을 하도록 설계\n",
    "        self.items.append(item) # O(1): 입력의 크기와 상관없이 시간이 일정하게 걸림\n",
    "        \n",
    "    def peek(self):\n",
    "        # 맨 마지막(위) 요소를 확이만\n",
    "        return self.items[-1] if self.items else None # if조건에서 [] 빈리스트는 False\n",
    "    \n",
    "    def pop(self):\n",
    "        return self.items.pop()\n",
    "    \n",
    "    def is_empty(self):\n",
    "        return not self.items # self.items = [] 비어있으면 False, 또는 len(self.items) == 0\n",
    "    \n",
    "    def size(self):\n",
    "        return len(self.items)\n",
    "    \n",
    "    \n",
    "stack = Stack()\n",
    "stack.push(10) # 10\n",
    "stack.push(20) # 10|20\n",
    "stack.push(30) # 10|20|30\n",
    "\n",
    "print(stack.peek())\n",
    "# for i in range(stack.size()):\n",
    "#     print(stack.peek())\n",
    "#     stack.pop()\n",
    "\n",
    "print(stack.items) # [10, 20, 30]\n",
    "\n",
    "print(stack.pop()) # 30 -> 스택: [10, 20]\n",
    "print(stack.size()) # 2\n",
    "print(stack.items) # [10, 20]\n",
    "\n",
    "print(stack.is_empty()) #  False\n",
    "\n",
    "print(stack.pop()) # 20\n",
    "print(stack.pop()) # 10\n",
    "print(stack.items) # []\n",
    "\n",
    "#print(stack.pop()) # IndexError: pop from empty list => 빈 stack에서꺼낼수 없다"
   ]
  },
  {
   "cell_type": "markdown",
   "id": "5baf839d",
   "metadata": {},
   "source": [
    "# Stack을 이용한 괄호 유효성 검사\n",
    "\n",
    "규칙 \n",
    "- 여는 괄호가 나오면 push\n",
    "- 닫는 괄호가 나오면 pop하여 짝이 맞는지 확인\n",
    "- 끝났을때 스택이 비어있어야 올바른 괄호열\n"
   ]
  },
  {
   "cell_type": "code",
   "execution_count": 36,
   "id": "b55bf4ce",
   "metadata": {},
   "outputs": [],
   "source": [
    "# parentheses : 괄호\n",
    "def is_valid_parentheses(exp):\n",
    "    pair = {')':'(', ']':'[', '}': '{' } # 닫는 괄호와 여는 괄호 매핑\n",
    "    stack = [] # 리스트를 스택처럼 사용\n",
    "    for ch in exp:\n",
    "        #if ch in pair.values():\n",
    "        if ch in '({[': # ch in pair.values():\n",
    "            stack.append(ch)  # 여는 괄호라면 push   \n",
    "            print(\"in\", stack) \n",
    "        elif ch in ')}]': # ch in pair.keys():\n",
    "            # 실패하는 경우: stack이 비어있거나, 짝이 않맞는 경우\n",
    "            if not stack or (stack.pop() != pair[ch]): #\n",
    "                print(\"비정상 종료: \", stack) \n",
    "                return False\n",
    "           \n",
    "    # 모두 처리 후 비어있으면, 올바른 괄호열이다 -> True \n",
    "    print(\"checking if stack is empty: \", stack)\n",
    "    return not stack"
   ]
  },
  {
   "cell_type": "code",
   "execution_count": 37,
   "id": "83b2d823",
   "metadata": {},
   "outputs": [
    {
     "name": "stdout",
     "output_type": "stream",
     "text": [
      "in ['(']\n",
      "in ['{']\n",
      "in ['[']\n",
      "checking if stack is empty:  []\n",
      "True\n",
      "##########\n",
      "in ['(']\n",
      "in ['(', '[']\n",
      "in ['(', '[', '{']\n",
      "checking if stack is empty:  []\n",
      "True\n",
      "####################\n",
      "in ['(']\n",
      "비정상 종료:  []\n",
      "False\n",
      "##############################\n",
      "in ['(']\n",
      "in ['(', '{']\n",
      "in ['(', '{', '[']\n",
      "비정상 종료:  ['(']\n",
      "False\n"
     ]
    }
   ],
   "source": [
    "#in_str = \"\"\n",
    "print(is_valid_parentheses('(){}[]')) # True\n",
    "print(\"#\"*10)\n",
    "print(is_valid_parentheses('([{}])')) # True\n",
    "print(\"#\"*20)\n",
    "print(is_valid_parentheses('(}])')) # False => for문 다 못돈 경우\n",
    "print(\"#\"*30)\n",
    "print(is_valid_parentheses('({[])}')) # False => for문 다 못돈 경우\n"
   ]
  }
 ],
 "metadata": {
  "kernelspec": {
   "display_name": "Python 3",
   "language": "python",
   "name": "python3"
  },
  "language_info": {
   "codemirror_mode": {
    "name": "ipython",
    "version": 3
   },
   "file_extension": ".py",
   "mimetype": "text/x-python",
   "name": "python",
   "nbconvert_exporter": "python",
   "pygments_lexer": "ipython3",
   "version": "3.13.9"
  }
 },
 "nbformat": 4,
 "nbformat_minor": 5
}
