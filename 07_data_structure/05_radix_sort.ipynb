{
 "cells": [
  {
   "cell_type": "code",
   "execution_count": 1,
   "id": "f8ae869b",
   "metadata": {},
   "outputs": [
    {
     "name": "stdout",
     "output_type": "stream",
     "text": [
      "a\n"
     ]
    }
   ],
   "source": [
    "print('a')"
   ]
  },
  {
   "cell_type": "markdown",
   "id": "2611d7d0",
   "metadata": {},
   "source": [
    "# 기수 정렬 (Radix Sort)\n",
    "\n",
    "1. 1의 자리 정렬 -> 10의 자리 정렬 -> 100자리 정렬 ... 순서로 정렬 (자리수로만 정렬, 크기비교없이.)\n",
    "2. 해당 자릿수(0~9)에 맞춰서 10개 버킷에 분배 \n",
    "3. 버킷 0 -> 9 순으로 이어붙이면 그 자릿수 기준 정렬\n",
    "4. 다음 자릿수로 반복 -> 최종 오름차순 정렬\n",
    "(예시: [1000, 12, 123] ==> 1의 자리: 1000, 12,  123로 정렬; 10의 자리 => 1000, 12, 123로 정렬; 100의자리 => 12, 1000, 123로 정렬; 1000의자리 => 12, 123, 1000으로 정렬)"
   ]
  },
  {
   "cell_type": "code",
   "execution_count": null,
   "id": "0fdb52c7",
   "metadata": {},
   "outputs": [],
   "source": [
    "def digit_bucket_sort(arr, digit_pow):\n",
    "    # digit_pow : 1(1의 자리), 10(10의 자리), 100, 1000, ... => 현재 보고 있는 자리수 의미\n",
    "    buckets = [ [] for _ in range(10)] # 10바퀴 반복하며, 0~9까지 10자리에 대한 빈 리스트 만들자 (반복만 돌리자 =>  '_' 사용) \n",
    "    #print('initial buckets: ', buckets)\n",
    "    \n",
    "    for x in arr:\n",
    "        d = (x//digit_pow) % 10 # 기수정렬은 해당 자리수만 확인 ==> digit_pow자릿수로 자리수 확인/정렬하여, 0 ~9 버킷에 담자\n",
    "        buckets[d].append(x) # digit_pow =1일때, 1의 자릿수로 먼저 정렬\n",
    "        \n",
    "    # 0~9 버킷을 순서대로 합치기\n",
    "    res = []\n",
    "    for b in buckets:\n",
    "        #res.append(b)  # [ [170 ], [ ],   [ ],  [],   [24], [5],   [],   [],    [],   [] ] (digit_pow = 1일때)\n",
    "                        # [   0자리, 1자리, 2자리, 3자리, 4자리, 5자리, 6자리, 7자리, 8자리, 9자리                                             ]\n",
    "        res.extend(b)   # 리스트를 풀어서 뒤에 붙임\n",
    "                        # [170, 24, 5]            \n",
    "    return res # 새롭게 합쳐진 리스트를 반환한다. (이렇게 새롭게 리스트에 담는 작업을 최대자리수까지 반복하여 sort하겠다는 말)\n",
    "\n",
    "def radix_sort(nums): # 정렬하도록 받은 값의 범위에 따른 자릿수 범위 체크해서 정렬 해줘야 한다.\n",
    "    # 빈 리스트라면 그대로 반환\n",
    "    if not nums:\n",
    "        return []\n",
    "    \n",
    "    # else:\n",
    "    arr = list(nums)    # 원본 보존\n",
    "    max_val = max(arr)  # 최대 자릿수 판단용\n",
    "    digit_pow = 1       # 1의 자리부터 시작\n",
    "    step = 1 # 출력용\n",
    "    \n",
    "    # 가장 큰 수의 자릿수 만큼 반복\n",
    "    while max_val//digit_pow > 0: # 나눈 몫이 존재할 동안 반복\n",
    "        arr = digit_bucket_sort(arr, digit_pow) # 1의 자리부터 시작\n",
    "        print(f'[STEP {step}] digit_pow = {digit_pow} -> {arr}')\n",
    "\n",
    "        digit_pow *= 10\n",
    "        step += 1\n",
    "        \n",
    "    return arr # 모든 반복끝난(sorting이 끝난) 최종 arr반환\n",
    "    "
   ]
  },
  {
   "cell_type": "code",
   "execution_count": 6,
   "id": "ba8d51ff",
   "metadata": {},
   "outputs": [
    {
     "name": "stdout",
     "output_type": "stream",
     "text": [
      "원본 :  [170, 24, 5, 19]\n",
      "[STEP 1] digit_pow = 1 -> [170, 24, 5, 19]\n",
      "[STEP 2] digit_pow = 10 -> [5, 19, 24, 170]\n",
      "[STEP 3] digit_pow = 100 -> [5, 19, 24, 170]\n",
      "결과 :  [5, 19, 24, 170]\n"
     ]
    }
   ],
   "source": [
    "nums = [170, 24, 5, 19]\n",
    "print(\"원본 : \", nums)\n",
    "print(\"결과 : \", radix_sort(nums))"
   ]
  }
 ],
 "metadata": {
  "kernelspec": {
   "display_name": "Python 3",
   "language": "python",
   "name": "python3"
  },
  "language_info": {
   "codemirror_mode": {
    "name": "ipython",
    "version": 3
   },
   "file_extension": ".py",
   "mimetype": "text/x-python",
   "name": "python",
   "nbconvert_exporter": "python",
   "pygments_lexer": "ipython3",
   "version": "3.13.9"
  }
 },
 "nbformat": 4,
 "nbformat_minor": 5
}
