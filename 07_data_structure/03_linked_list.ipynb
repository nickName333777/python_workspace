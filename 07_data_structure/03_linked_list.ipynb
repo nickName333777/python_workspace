{
 "cells": [
  {
   "cell_type": "markdown",
   "id": "732292a8",
   "metadata": {},
   "source": [
    "### Node: Data + Next(다음 노드의 주소 담고있다) ==> 이 노드들이 연결된게 링크트 리스트 => 삽입과 삭제가 용이 (배열과의 차이점)\n",
    "반대로, 인덱스가 없어서 값을 찾아갈수 없어서, 처음 노드부터 검색해 나가야 한다."
   ]
  },
  {
   "cell_type": "markdown",
   "id": "b0db2a47",
   "metadata": {},
   "source": [
    "# 연결 리스트 (Linked List)\n",
    "\n",
    "- 노드가 줄줄이(next) 이어진 구조\n",
    "- Head : 첫 노드를 가리키는 포인터\n",
    "- 장점 : 중간 삽입/삭제가 쉬움\n",
    "- 단점 : 인덱스로 바로 찾을 수 없다(처음부터 세야 한다.)\n",
    "\n",
    "- append(x) : 맨 뒤에 추가\n",
    "- prepend(x) : 맨 앞에 추가\n",
    "- pop_front() : 맨 앞 삭제\n",
    "- get(i) : i번째 값 조회(0부터)\n",
    "- is_empty() :비었는지 확인"
   ]
  },
  {
   "cell_type": "code",
   "execution_count": 1,
   "id": "34c63e8b",
   "metadata": {},
   "outputs": [
    {
     "name": "stdout",
     "output_type": "stream",
     "text": [
      "a\n"
     ]
    }
   ],
   "source": [
    "print('a')"
   ]
  },
  {
   "cell_type": "markdown",
   "id": "72d8c3cf",
   "metadata": {},
   "source": [
    "## (참고) 시간 복잡도: O(n), O(1), ...\n",
    "- 어떤 알고리즘이 입력 크기 n에 따라 얼마나 빠르게 \n",
    "  (또는 느리게) 실행되는지를 수학적으로 나타낸 것"
   ]
  },
  {
   "cell_type": "code",
   "execution_count": 8,
   "id": "0657ad5d",
   "metadata": {},
   "outputs": [
    {
     "name": "stdout",
     "output_type": "stream",
     "text": [
      "SinglyLinkedList([5, 10, 20])\n",
      "3\n",
      "False\n"
     ]
    }
   ],
   "source": [
    "# 단일 연결 리스트 (Singly Linked List)\n",
    "# - 각 노드는 (데이터, 다음 노드 주소)를 가진다.\n",
    "\n",
    "# LinkedList : Node(data,next) + Node(data, next) + Node(data, next) + ....\n",
    "\n",
    "class Node:\n",
    "    def __init__(self, data, next=None): # 맨처음에 만들어지는것은 다음값이 없으므로 None\n",
    "        self.data = data # 현재 노드의 값\n",
    "        self.next = next # 다음 노드의 참조(없으면 None)\n",
    "        \n",
    "        \n",
    "class SinglyLinkedList: # 첫번째 노드를 알려주는 Head가 필요\n",
    "    def __init__(self):\n",
    "        self.head = None    # head :  첫 번째 노드 (초기상태는 None; 초기에는 만들어진 노드가 없다)\n",
    "        self.size = 0       # 노드 개수\n",
    "        \n",
    "    # 맨 앞에 새로운 노드를 추가: O(1) 시간복잡도\n",
    "    def prepend(self, x): # 이제 head가 가르키는 것은 맨처음 새로 추가된 노드가 되어야 함\n",
    "        self.head = Node(x, self.head) # 만들어지는 새로운 노드가 항상 head가 되게 한다. (self.head는 새로 생성된 Node의 주소)\n",
    "        self.size += 1        \n",
    "    \n",
    "    # 맨 뒤에 새로운 노드를 추가\n",
    "    # (O(n) 연산: 끝까지 탐색) (배열은 맨뒤에 추가하는 것이 빠른반면O(1), 링크트리스트는 맨앞에 추가하는 것이 빠르다O(1))\n",
    "    def append(self, x):\n",
    "        new = Node(x) # 맨뒤는 참조할 것 없으므로, 기본값 None을 준다(Node(x, None))\n",
    "        \n",
    "        # 빈 리스트라면 head에 바로 삽입\n",
    "        if self.head is None:\n",
    "            self.head = new\n",
    "        else:\n",
    "            curr = self.head # 현재 시작위치(head가 맨처음 시작위치로 여기서 부터 탐색)\n",
    "            while curr.next: # 마지막 노드까지 이동 (while루프 끝나면, curr가 마지막 노드된다.)\n",
    "                curr = curr.next\n",
    "            curr.next = new # 마지막 노드에 새 노드 연결 (이제 노드가 새로 생긴것!)\n",
    "        \n",
    "        self.size += 1\n",
    "            \n",
    "    def __str__(self):\n",
    "        curr, box = self.head, []\n",
    "        while curr: # curr가 맨마지막 노드(None)이 아닐때 까지 while루프돈다\n",
    "            box.append(curr.data)\n",
    "            curr = curr.next\n",
    "            \n",
    "        return f'SinglyLinkedList({box})'\n",
    "    \n",
    "    \n",
    "    # 리스트의 길이 반환\n",
    "    #def len(self):  # TypeError: object of type 'SinglyLinkedList' has no len() --> len()이게 __len__()임\n",
    "    def __len__(self): # len()함수 overriding\n",
    "        return self.size\n",
    "    \n",
    "    \n",
    "    def is_empty(self): # self.head와 self.size둘 다 가능\n",
    "        #return not self.head\n",
    "        return not self.size\n",
    "    \n",
    "\n",
    "sll = SinglyLinkedList()\n",
    "sll.append(10)\n",
    "sll.prepend(5)\n",
    "sll.append(20)\n",
    "\n",
    "print(sll) # SinglyLinkedList([5, 10, 20])\n",
    "\n",
    "print(len(sll)) # 3\n",
    "\n",
    "print(sll.is_empty()) # False"
   ]
  }
 ],
 "metadata": {
  "kernelspec": {
   "display_name": "Python 3",
   "language": "python",
   "name": "python3"
  },
  "language_info": {
   "codemirror_mode": {
    "name": "ipython",
    "version": 3
   },
   "file_extension": ".py",
   "mimetype": "text/x-python",
   "name": "python",
   "nbconvert_exporter": "python",
   "pygments_lexer": "ipython3",
   "version": "3.13.9"
  }
 },
 "nbformat": 4,
 "nbformat_minor": 5
}
