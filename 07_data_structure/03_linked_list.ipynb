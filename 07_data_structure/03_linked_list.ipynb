{
 "cells": [
  {
   "cell_type": "markdown",
   "id": "732292a8",
   "metadata": {},
   "source": [
    "### Node: Data + Next(다음 노드의 주소 담고있다) ==> 이 노드들이 연결된게 링크트 리스트 => 삽입과 삭제가 용이 (배열과의 차이점)\n",
    "반대로, 인덱스가 없어서 값을 찾아갈수 없어서, 처음 노드부터 검색해 나가야 한다."
   ]
  },
  {
   "cell_type": "markdown",
   "id": "b0db2a47",
   "metadata": {},
   "source": [
    "# 연결 리스트 (Linked List)\n",
    "\n",
    "- 노드가 줄줄이(next) 이어진 구조\n",
    "- Head : 첫 노드를 가리키는 포인터\n",
    "- 장점 : 중간 삽입/삭제가 쉬움 (단 인덱스가 없다; 리스트는 중간에 삽입/삭제는 다른 원소의 shift가 수반되어 비효율적)\n",
    "- 단점 : 인덱스로 바로 찾을 수 없다(처음부터 세야 한다.)\n",
    "\n",
    "- append(x) : 맨 뒤에 추가\n",
    "- prepend(x) : 맨 앞에 추가\n",
    "- pop_front() : 맨 앞 삭제\n",
    "- get(i) : i번째 값 조회(0부터)\n",
    "- is_empty() :비었는지 확인"
   ]
  },
  {
   "cell_type": "code",
   "execution_count": 1,
   "id": "34c63e8b",
   "metadata": {},
   "outputs": [
    {
     "name": "stdout",
     "output_type": "stream",
     "text": [
      "a\n"
     ]
    }
   ],
   "source": [
    "print('a')"
   ]
  },
  {
   "cell_type": "markdown",
   "id": "72d8c3cf",
   "metadata": {},
   "source": [
    "## (참고) 시간 복잡도: O(n), O(1), ...\n",
    "- 어떤 알고리즘이 입력 크기 n에 따라 얼마나 빠르게 \n",
    "  (또는 느리게) 실행되는지를 수학적으로 나타낸 것"
   ]
  },
  {
   "cell_type": "code",
   "execution_count": null,
   "id": "0657ad5d",
   "metadata": {},
   "outputs": [
    {
     "name": "stdout",
     "output_type": "stream",
     "text": [
      "a\n"
     ]
    }
   ],
   "source": [
    "# 단일 연결 리스트 (Singly Linked List)\n",
    "# - 각 노드는 (데이터, 다음 노드 주소)를 가진다.\n",
    "\n",
    "# LinkedList : Node(data,next) + Node(data, next) + Node(data, next) + ....\n",
    "\n",
    "class Node:\n",
    "    def __init__(self, data, next=None): # 맨처음에 만들어지는것은 다음값이 없으므로 None\n",
    "        self.data = data # 현재 노드의 값\n",
    "        self.next = next # 다음 노드의 참조(없으면 None) (==> 참조하는 객체의 주소)\n",
    "        \n",
    "        \n",
    "class SinglyLinkedList: # 첫번째 노드를 알려주는 Head가 필요\n",
    "    def __init__(self):\n",
    "        self.head = None    # head :  첫 번째 노드 (초기상태는 None; 초기에는 만들어진 노드가 없다) => 누가 시작이야.. 참조;  (==> 참조하는 객체의 주소)\n",
    "        self.size = 0       # 노드 개수\n",
    "        \n",
    "    # 맨 앞에 새로운 노드를 추가: O(1) 시간복잡도\n",
    "    def prepend(self, x): # 이제 head가 가르키는 것은 맨처음 새로 추가된 노드가 되어야 함\n",
    "        self.head = Node(x, self.head) # 만들어지는 새로운 노드가 항상 head가 되게 한다. (self.head =  Node(x, self.head(=None))는 새로 생성된 Node의 주소로, 최초 node prepend시 마지막 노드의 self.next=None되게)\n",
    "        self.size += 1        \n",
    "    \n",
    "    # 맨 뒤에 새로운 노드를 추가\n",
    "    # (O(n) 연산: 끝까지 탐색) (배열은 맨뒤에 추가하는 것이 빠른반면O(1), 링크트리스트는 맨앞에 추가하는 것이 빠르다O(1))\n",
    "    def append(self, x):\n",
    "        new = Node(x) # 맨뒤는 참조할 것 없으므로, 기본값 None을 준다(실제 new = Node(x, None))\n",
    "        \n",
    "        # 빈 리스트라면 head에 바로 삽입\n",
    "        if self.head is None:\n",
    "            self.head = new\n",
    "        else:\n",
    "            curr = self.head # 현재 시작위치(head가 맨처음 시작위치로 여기서 부터 탐색)\n",
    "            while curr.next: # 마지막 노드까지 이동 (while루프 끝나면, curr가 마지막 노드된다.)\n",
    "                curr = curr.next\n",
    "            curr.next = new # 마지막 노드에 새 노드 연결 (이제 노드가 새로 생긴것!, 원재 마지막 노드라면 curr.next=None이었다가 이제 curr.next = new가 된것)\n",
    "        \n",
    "        self.size += 1\n",
    "            \n",
    "    def __str__(self):\n",
    "        curr, box = self.head, [] # box에 노드 데이터값 self.data담는다\n",
    "        while curr: # curr가 맨마지막 노드(None)이 아닐때 까지 while루프돈다\n",
    "            box.append(curr.data)\n",
    "            curr = curr.next\n",
    "            \n",
    "        return f'SinglyLinkedList({box})'\n",
    "    \n",
    "    \n",
    "    # 리스트의 길이 반환\n",
    "    #def len(self):  # TypeError: object of type 'SinglyLinkedList' has no len() --> len()이게 __len__()임\n",
    "    def __len__(self): # len()함수 overriding\n",
    "        return self.size\n",
    "    \n",
    "    \n",
    "    def is_empty(self): # self.head와 self.size둘 다 가능\n",
    "        #return not self.head\n",
    "        return not self.size\n",
    "    \n",
    "    # i번째 노드의 데이터 반환: O(n) -> 안에 있는 노드의 갯수에 따라 달라짐(데이터에 비례)\n",
    "    def get(self, i):\n",
    "        if i < 0 or i >= self.size:\n",
    "            raise IndexError(\"index out of range\") # 1. 인덱스 범위 검사\n",
    "        \n",
    "        curr = self.head # 2. 첫 번째 노드에서 시작 (예시: i=5, 5번 노드 이동 -> for문 via range())\n",
    "        for _ in range(i): # 꺼내진 i값은 필요없고, 딱 i번 만큼 다음 next로 이동하는것이 필요 => '_'를 쓰면 값 않쓴다는 의미\n",
    "            # _ : 반복 횟수만 중요하고, 인덱스 값은 쓰지 않겠다 라는 의미\n",
    "            curr = curr.next\n",
    "            \n",
    "        return curr.data # 반복문 끝났을때(i번째 노드에 도달했을 때) 현재 노드의 데이터 반환\n",
    "        \n",
    "        \n",
    "    # 맨 앞 노드 삭제 후 데이터 반환: 시간 복잡도는 O(1) (데이터 크기와 관계없이 일정)\n",
    "    def pop_front(self):\n",
    "        if self.is_empty():\n",
    "            raise IndexError(\"pop from empty list\")\n",
    "        # else:\n",
    "        #     curr = self.head\n",
    "        #     val = curr.data\n",
    "        #     self.head = curr.next\n",
    "        # self.size -= 1\n",
    "        # return val ### ok\n",
    "        \n",
    "        val = self.head.data\n",
    "        self.head = self.head.next # 두번째 노드가 새로운 head (=>이제 더이상 참조되지 않는 노드는 garbage collection된다)\n",
    "        self.size -= 1\n",
    "        \n",
    "        return val\n",
    "        \n",
    "        \n",
    "    \n",
    "\n",
    "print('a') # to confirm"
   ]
  },
  {
   "cell_type": "code",
   "execution_count": null,
   "id": "1015dfae",
   "metadata": {},
   "outputs": [
    {
     "name": "stdout",
     "output_type": "stream",
     "text": [
      "SinglyLinkedList([5, 10, 20])\n",
      "3\n",
      "False\n",
      "20\n",
      "5\n"
     ]
    }
   ],
   "source": [
    "sll = SinglyLinkedList()\n",
    "sll.append(10)\n",
    "sll.prepend(5)\n",
    "sll.append(20)\n",
    "\n",
    "print(sll) # SinglyLinkedList([5, 10, 20])\n",
    "\n",
    "print(len(sll)) # 3\n",
    "\n",
    "print(sll.is_empty()) # False\n",
    "\n",
    "print(sll.get(2)) # i=2, 두번째 노드의 값을 가져와라 => 20\n",
    "\n",
    "print(sll.pop_front()) # 5"
   ]
  },
  {
   "cell_type": "code",
   "execution_count": null,
   "id": "53cf5e4e",
   "metadata": {},
   "outputs": [
    {
     "data": {
      "text/plain": [
       "['__add__',\n",
       " '__class__',\n",
       " '__class_getitem__',\n",
       " '__contains__',\n",
       " '__copy__',\n",
       " '__delattr__',\n",
       " '__delitem__',\n",
       " '__dir__',\n",
       " '__doc__',\n",
       " '__eq__',\n",
       " '__format__',\n",
       " '__ge__',\n",
       " '__getattribute__',\n",
       " '__getitem__',\n",
       " '__getstate__',\n",
       " '__gt__',\n",
       " '__hash__',\n",
       " '__iadd__',\n",
       " '__imul__',\n",
       " '__init__',\n",
       " '__init_subclass__',\n",
       " '__iter__',\n",
       " '__le__',\n",
       " '__len__',\n",
       " '__lt__',\n",
       " '__module__',\n",
       " '__mul__',\n",
       " '__ne__',\n",
       " '__new__',\n",
       " '__reduce__',\n",
       " '__reduce_ex__',\n",
       " '__repr__',\n",
       " '__reversed__',\n",
       " '__rmul__',\n",
       " '__setattr__',\n",
       " '__setitem__',\n",
       " '__sizeof__',\n",
       " '__str__',\n",
       " '__subclasshook__',\n",
       " 'append',\n",
       " 'appendleft',\n",
       " 'clear',\n",
       " 'copy',\n",
       " 'count',\n",
       " 'extend',\n",
       " 'extendleft',\n",
       " 'index',\n",
       " 'insert',\n",
       " 'maxlen',\n",
       " 'pop',\n",
       " 'popleft',\n",
       " 'remove',\n",
       " 'reverse',\n",
       " 'rotate']"
      ]
     },
     "execution_count": 3,
     "metadata": {},
     "output_type": "execute_result"
    }
   ],
   "source": [
    "# 예를 들어 deque()에 구현된 __len__()\n",
    "from collections import deque\n",
    "len(deque()) # 0\n",
    "dir(deque())"
   ]
  }
 ],
 "metadata": {
  "kernelspec": {
   "display_name": "Python 3",
   "language": "python",
   "name": "python3"
  },
  "language_info": {
   "codemirror_mode": {
    "name": "ipython",
    "version": 3
   },
   "file_extension": ".py",
   "mimetype": "text/x-python",
   "name": "python",
   "nbconvert_exporter": "python",
   "pygments_lexer": "ipython3",
   "version": "3.13.9"
  }
 },
 "nbformat": 4,
 "nbformat_minor": 5
}
