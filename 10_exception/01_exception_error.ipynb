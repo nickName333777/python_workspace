{
 "cells": [
  {
   "cell_type": "markdown",
   "id": "1a801233",
   "metadata": {},
   "source": [
    "# 예외-오류 Exception-Error\n",
    "\n",
    "- Exception : 정상적인 흐름으로 복구 가능한 미약한 오류 (try-except구문으로 복구)\n",
    "- Error : 복구 불가능한 심각한 오류(재시작) (OOM Out Of Memory)\n",
    "- 예외/오류나면 더 이상 실행않됨 => 예외처리 필요\n",
    "\n",
    "파이썬의 예외/오류 클래스는 모두 BaseException 클래스를 상속\n"
   ]
  },
  {
   "cell_type": "code",
   "execution_count": null,
   "id": "4c6dc0a1",
   "metadata": {},
   "outputs": [
    {
     "ename": "SyntaxError",
     "evalue": "expected ':' (1297360230.py, line 1)",
     "output_type": "error",
     "traceback": [
      "  \u001b[36mCell\u001b[39m\u001b[36m \u001b[39m\u001b[32mIn[2]\u001b[39m\u001b[32m, line 1\u001b[39m\n\u001b[31m    \u001b[39m\u001b[31mif True\u001b[39m\n           ^\n\u001b[31mSyntaxError\u001b[39m\u001b[31m:\u001b[39m expected ':'\n"
     ]
    }
   ],
   "source": [
    " # SyntaxError: expected ':'\n",
    "if True\n",
    "    print()"
   ]
  },
  {
   "cell_type": "code",
   "execution_count": null,
   "id": "8186b7aa",
   "metadata": {},
   "outputs": [
    {
     "ename": "ZeroDivisionError",
     "evalue": "division by zero",
     "output_type": "error",
     "traceback": [
      "\u001b[31m---------------------------------------------------------------------------\u001b[39m",
      "\u001b[31mZeroDivisionError\u001b[39m                         Traceback (most recent call last)",
      "\u001b[36mCell\u001b[39m\u001b[36m \u001b[39m\u001b[32mIn[3]\u001b[39m\u001b[32m, line 2\u001b[39m\n\u001b[32m      1\u001b[39m num = \u001b[38;5;28mint\u001b[39m(\u001b[38;5;28minput\u001b[39m(\u001b[33m\"\u001b[39m\u001b[33m정수 입력: \u001b[39m\u001b[33m\"\u001b[39m))\n\u001b[32m----> \u001b[39m\u001b[32m2\u001b[39m \u001b[32;43m10\u001b[39;49m\u001b[43m/\u001b[49m\u001b[43mnum\u001b[49m\n",
      "\u001b[31mZeroDivisionError\u001b[39m: division by zero"
     ]
    }
   ],
   "source": [
    "# ZeroDivisionError: division by zero\n",
    "num = int(input(\"정수 입력: \"))\n",
    "10/num"
   ]
  },
  {
   "cell_type": "code",
   "execution_count": null,
   "id": "1f28e86f",
   "metadata": {},
   "outputs": [
    {
     "ename": "TypeError",
     "evalue": "can only concatenate str (not \"int\") to str",
     "output_type": "error",
     "traceback": [
      "\u001b[31m---------------------------------------------------------------------------\u001b[39m",
      "\u001b[31mTypeError\u001b[39m                                 Traceback (most recent call last)",
      "\u001b[36mCell\u001b[39m\u001b[36m \u001b[39m\u001b[32mIn[4]\u001b[39m\u001b[32m, line 1\u001b[39m\n\u001b[32m----> \u001b[39m\u001b[32m1\u001b[39m \u001b[33;43m'\u001b[39;49m\u001b[33;43mabc\u001b[39;49m\u001b[33;43m'\u001b[39;49m\u001b[43m \u001b[49m\u001b[43m+\u001b[49m\u001b[43m \u001b[49m\u001b[32;43m111\u001b[39;49m\n",
      "\u001b[31mTypeError\u001b[39m: can only concatenate str (not \"int\") to str"
     ]
    }
   ],
   "source": [
    "# TypeError: can only concatenate str (not \"int\") to str\n",
    "'abc' + 111"
   ]
  },
  {
   "cell_type": "code",
   "execution_count": null,
   "id": "d03b7c4d",
   "metadata": {},
   "outputs": [
    {
     "ename": "IndexError",
     "evalue": "list index out of range",
     "output_type": "error",
     "traceback": [
      "\u001b[31m---------------------------------------------------------------------------\u001b[39m",
      "\u001b[31mIndexError\u001b[39m                                Traceback (most recent call last)",
      "\u001b[36mCell\u001b[39m\u001b[36m \u001b[39m\u001b[32mIn[5]\u001b[39m\u001b[32m, line 2\u001b[39m\n\u001b[32m      1\u001b[39m lst = [\u001b[32m1\u001b[39m, \u001b[32m2\u001b[39m, \u001b[32m3\u001b[39m]\n\u001b[32m----> \u001b[39m\u001b[32m2\u001b[39m \u001b[43mlst\u001b[49m\u001b[43m[\u001b[49m\u001b[32;43m5\u001b[39;49m\u001b[43m]\u001b[49m\n",
      "\u001b[31mIndexError\u001b[39m: list index out of range"
     ]
    }
   ],
   "source": [
    "# IndexError: list index out of range\n",
    "lst = [1, 2, 3]\n",
    "lst[5]"
   ]
  },
  {
   "cell_type": "code",
   "execution_count": null,
   "id": "93c3d0f7",
   "metadata": {},
   "outputs": [
    {
     "ename": "KeyError",
     "evalue": "'age'",
     "output_type": "error",
     "traceback": [
      "\u001b[31m---------------------------------------------------------------------------\u001b[39m",
      "\u001b[31mKeyError\u001b[39m                                  Traceback (most recent call last)",
      "\u001b[36mCell\u001b[39m\u001b[36m \u001b[39m\u001b[32mIn[6]\u001b[39m\u001b[32m, line 2\u001b[39m\n\u001b[32m      1\u001b[39m dct = {\u001b[33m'\u001b[39m\u001b[33mname\u001b[39m\u001b[33m'\u001b[39m: \u001b[33m\"\u001b[39m\u001b[33m홍길동\u001b[39m\u001b[33m\"\u001b[39m}\n\u001b[32m----> \u001b[39m\u001b[32m2\u001b[39m \u001b[43mdct\u001b[49m\u001b[43m[\u001b[49m\u001b[33;43m\"\u001b[39;49m\u001b[33;43mage\u001b[39;49m\u001b[33;43m\"\u001b[39;49m\u001b[43m]\u001b[49m\n",
      "\u001b[31mKeyError\u001b[39m: 'age'"
     ]
    }
   ],
   "source": [
    "# KeyError: 'age'\n",
    "dct = {'name': \"홍길동\"}\n",
    "dct[\"age\"]"
   ]
  },
  {
   "cell_type": "markdown",
   "id": "54e10f0f",
   "metadata": {},
   "source": [
    "# 예외 처리\n",
    "\n",
    "### 발생된 예외/오류 상황에서 try-except 구문을 통해 적절히 처리 후 정상적인 흐름으로 돌려내는 것"
   ]
  },
  {
   "cell_type": "code",
   "execution_count": null,
   "id": "7f1eb822",
   "metadata": {},
   "outputs": [
    {
     "name": "stdout",
     "output_type": "stream",
     "text": [
      "except 블록 실행!\n",
      "종료\n"
     ]
    }
   ],
   "source": [
    "# 예외 처리\n",
    "try:\n",
    "    # 예외/오류가 발생할 수 있는 코드 작성\n",
    "    # - 오류가 발생하면 except 블록으로 즉시 이동 (이하의 코드 실행 안함)\n",
    "    print(10/0) ### <== 이거 주석처리로 테스트해본다.\n",
    "    # ...\n",
    "    \n",
    "    # - 오류가 발생하지 않으면 except 구문은 무시하고 try블록 탈출\n",
    "    print(10/1)\n",
    "    print(\"try 블록 실행!\")\n",
    "    \n",
    "except:\n",
    "    # 예외/오류가 발생했을 때 처리할 코드 작성\n",
    "    print(\"except 블록 실행!\")\n",
    "    \n",
    "    \n",
    "print('종료')"
   ]
  },
  {
   "cell_type": "code",
   "execution_count": null,
   "id": "5ec063e1",
   "metadata": {},
   "outputs": [
    {
     "name": "stdout",
     "output_type": "stream",
     "text": [
      "{'id': 1, 'name': '홍길동'}\n",
      "홍길동\n",
      "해당 id=7를 가진 학생은 존재하지 않습니다.\n"
     ]
    }
   ],
   "source": [
    "students: dict[int, dict] = {\n",
    "    1 : {\"id\":1, \"name\":\"홍길동\"},\n",
    "    2 : {\"id\":2, \"name\":\"신사임당\"},\n",
    "    3 : {\"id\":3, \"name\":\"이순신\"},\n",
    "    }\n",
    "\n",
    "# 학생 조회\n",
    "# - 사용자로부터 id값을 입력 받아 해당 학생의 정보를 출력\n",
    "# - 존재하지 않는 id를 입력하면 \"해당 id를 가진 학생은 존재하지 않습니다.\"\n",
    "\n",
    "\n",
    "try:\n",
    "\n",
    "    while True: # 예외/오류 생기면 while-루프를 빠져나가 except로 간다.\n",
    "        sid = int(input(\"학생 id입력: \"))\n",
    "        print(students[sid])\n",
    "        print(students[sid]['name'])\n",
    "    \n",
    "except:\n",
    "    print(f\"해당 id={sid}를 가진 학생은 존재하지 않습니다.\")\n"
   ]
  },
  {
   "cell_type": "code",
   "execution_count": null,
   "id": "fe5e44d7",
   "metadata": {},
   "outputs": [
    {
     "name": "stdout",
     "output_type": "stream",
     "text": [
      "ValueError 발생!! invalid literal for int() with base 10: 'abc' <class 'ValueError'>\n"
     ]
    }
   ],
   "source": [
    "# except 블록에서 여러가지 예외상황 각각 처리 가능\n",
    "import random \n",
    "\n",
    "try: \n",
    "    # 난수 생성 0, 1\n",
    "    n = random.randint(0, 1 ) # 시작값/종료값(포함) 사이의 정수 반환\n",
    "\n",
    "    if n: # n=1일때만(True) 실행 (0일때는 False) \n",
    "        print('abc' + 123) # TypeError 발생 코드\n",
    "        \n",
    "    else : # n이 0인 경우\n",
    "        print(int('abc')) # ValueError 발생 코드\n",
    "        \n",
    "except TypeError as e: # TypeError만 처리\n",
    "    print('TypeError 발생!!', e, type(e)) # TypeError 발생!! can only concatenate str (not \"int\") to str <class 'TypeError'>\n",
    "    \n",
    "except ValueError as e: # TypeError만 처리\n",
    "    print('ValueError 발생!!', e, type(e)) # ValueError 발생!! invalid literal for int() with base 10: 'abc' <class 'ValueError'>\n",
    "    \n"
   ]
  },
  {
   "cell_type": "code",
   "execution_count": null,
   "id": "3b68b088",
   "metadata": {},
   "outputs": [
    {
     "name": "stdout",
     "output_type": "stream",
     "text": [
      "division by zero\n"
     ]
    }
   ],
   "source": [
    "# 예외 무시 (주의: 예외발생한 상황에 대한 추적 불가!!)\n",
    "\n",
    "try:\n",
    "    print(10/0)\n",
    "    \n",
    "except Exception as e:\n",
    "    # try 블록의 예외 추적 불가\n",
    "    # pass\n",
    "    print(e) # division by zero\n",
    "    "
   ]
  }
 ],
 "metadata": {
  "kernelspec": {
   "display_name": "Python 3",
   "language": "python",
   "name": "python3"
  },
  "language_info": {
   "codemirror_mode": {
    "name": "ipython",
    "version": 3
   },
   "file_extension": ".py",
   "mimetype": "text/x-python",
   "name": "python",
   "nbconvert_exporter": "python",
   "pygments_lexer": "ipython3",
   "version": "3.13.9"
  }
 },
 "nbformat": 4,
 "nbformat_minor": 5
}
