{
 "cells": [
  {
   "cell_type": "markdown",
   "id": "f62a683d",
   "metadata": {},
   "source": [
    "# 예외처리 흐름\n",
    "raise 예외객체를 사용해서 명시적으로 예외를 던질 수 있다.\n",
    "\n",
    "이를 통해 코드 처리 흐름을 명확히 전달할 수 있다. (자바의 throw)"
   ]
  },
  {
   "cell_type": "code",
   "execution_count": null,
   "id": "7fb72eb3",
   "metadata": {},
   "outputs": [
    {
     "ename": "NotImplementedError",
     "evalue": "test함수 ~~~~ 기능 구현 예정",
     "output_type": "error",
     "traceback": [
      "\u001b[31m---------------------------------------------------------------------------\u001b[39m",
      "\u001b[31mNotImplementedError\u001b[39m                       Traceback (most recent call last)",
      "\u001b[36mCell\u001b[39m\u001b[36m \u001b[39m\u001b[32mIn[4]\u001b[39m\u001b[32m, line 4\u001b[39m\n\u001b[32m      1\u001b[39m \u001b[38;5;28;01mdef\u001b[39;00m\u001b[38;5;250m \u001b[39m\u001b[34mtest\u001b[39m():\n\u001b[32m      2\u001b[39m     \u001b[38;5;28;01mraise\u001b[39;00m \u001b[38;5;167;01mNotImplementedError\u001b[39;00m(\u001b[33m\"\u001b[39m\u001b[33mtest함수 ~~~~ 기능 구현 예정\u001b[39m\u001b[33m\"\u001b[39m)\n\u001b[32m----> \u001b[39m\u001b[32m4\u001b[39m \u001b[43mtest\u001b[49m\u001b[43m(\u001b[49m\u001b[43m)\u001b[49m\n",
      "\u001b[36mCell\u001b[39m\u001b[36m \u001b[39m\u001b[32mIn[4]\u001b[39m\u001b[32m, line 2\u001b[39m, in \u001b[36mtest\u001b[39m\u001b[34m()\u001b[39m\n\u001b[32m      1\u001b[39m \u001b[38;5;28;01mdef\u001b[39;00m\u001b[38;5;250m \u001b[39m\u001b[34mtest\u001b[39m():\n\u001b[32m----> \u001b[39m\u001b[32m2\u001b[39m     \u001b[38;5;28;01mraise\u001b[39;00m \u001b[38;5;167;01mNotImplementedError\u001b[39;00m(\u001b[33m\"\u001b[39m\u001b[33mtest함수 ~~~~ 기능 구현 예정\u001b[39m\u001b[33m\"\u001b[39m)\n",
      "\u001b[31mNotImplementedError\u001b[39m: test함수 ~~~~ 기능 구현 예정"
     ]
    }
   ],
   "source": [
    "def test():\n",
    "    raise NotImplementedError(\"test함수 ~~~~ 기능 구현 예정\") # 명시적으로 예외 던져주기\n",
    "\n",
    "test() # NotImplementedError: test함수 ~~~~ 기능 구현 예정"
   ]
  },
  {
   "cell_type": "code",
   "execution_count": null,
   "id": "a3770d69",
   "metadata": {},
   "outputs": [
    {
     "name": "stdout",
     "output_type": "stream",
     "text": [
      "미성년자는 게임을 이용하실 수 없습니다.\n"
     ]
    }
   ],
   "source": [
    "\n",
    "# if ... else  ==>(try... except처럼) 프로그램 동작않되게 if... else로도 예외 구현가능 \n",
    "\n",
    "class AdultGame:\n",
    "    def __init__(self):\n",
    "        pass\n",
    "    \n",
    "    def start(self):\n",
    "        print(\"성인용 게임을 시작합니다.\")\n",
    "        \n",
    "age = int(input(\"나이 입력 : \"))\n",
    "\n",
    "if age >= 20:\n",
    "    AdultGame().start()\n",
    "    \n",
    "else:\n",
    "    print(\"미성년자는 게임을 이용하실 수 없습니다.\")"
   ]
  },
  {
   "cell_type": "code",
   "execution_count": null,
   "id": "16d6ce06",
   "metadata": {},
   "outputs": [
    {
     "name": "stdout",
     "output_type": "stream",
     "text": [
      "성인용 게임을 시작합니다.\n"
     ]
    }
   ],
   "source": [
    "# 사용자 예외 구현 예시 1)\n",
    "# 커스텀 예외클래스\n",
    "class UnderAgeError(Exception):\n",
    "    pass\n",
    "\n",
    "class AdultGame2:\n",
    "    def __init__(self, age):\n",
    "        if age < 20 : # 예외발생 가능한 상황 - 나이 검사\n",
    "            raise UnderAgeError(f'미성년자는 이용할 수 없습니다. :{age}') # 사용자 정의 에러: 에러 발생의 의도를 알수 있게 사용자가 정의한 에러\n",
    "        \n",
    "    def start(self):\n",
    "        print('성인용 게임을 시작합니다.')\n",
    "        \n",
    "        \n",
    "try:\n",
    "    age = int(input(\"나이 입력 : \"))\n",
    "    AdultGame2(age).start()\n",
    "    \n",
    "except Exception as e: \n",
    "    print(e)"
   ]
  },
  {
   "cell_type": "code",
   "execution_count": null,
   "id": "8d9d8550",
   "metadata": {},
   "outputs": [
    {
     "name": "stdout",
     "output_type": "stream",
     "text": [
      "파이썬 exception\n",
      "--------------------------------------\n"
     ]
    }
   ],
   "source": [
    "# 사용자로부터 파일명을 입력 받고, 해당 파일의 내용을 읽어서 출력\n",
    "# - 만약 해당 파일이 존재하지 않으면, 사용자 입력값으로 파일을 직접 생성\n",
    "\n",
    "import os\n",
    "\n",
    "# 1. 파일명 입력 받기\n",
    "f_name = input(\"읽어올 파일명 입력: \")\n",
    "\n",
    "# 2. 해당 파일 열어서 읽기\n",
    "if os.path.exists(f_name):\n",
    "    with open(f_name, 'r', encoding='utf-8') as f:\n",
    "        f_content = f.read()\n",
    "        print(f_content)\n",
    "else:\n",
    "    print(\"수업 내용 정리 파일은 존재하지 않습니다. 새로 만들어 드리겠습니다.\")\n",
    "    w_content = input(\"내용을 입력해주세요: \")\n",
    "    with open(f_name, 'w', encoding='utf-8') as g:\n",
    "        g.write(w_content)\n",
    "    print(\"해당 내용을 성공적으로 저장했습니다.\")\n",
    "    \n",
    "print(\"--------------------------------------\")"
   ]
  },
  {
   "cell_type": "code",
   "execution_count": null,
   "id": "0f42967b",
   "metadata": {},
   "outputs": [
    {
     "name": "stdout",
     "output_type": "stream",
     "text": [
      "해당 내용을 성공적으로 저장했습니다.\n",
      "--------------------------------------\n"
     ]
    }
   ],
   "source": [
    "\n",
    "import os\n",
    "\n",
    "class FileNotFoundUser(Exception):\n",
    "    pass\n",
    "\n",
    "try:\n",
    "    # 1. 파일명 입력 받기\n",
    "    f_name = input(\"읽어올 파일명 입력: \")\n",
    "    # 2. 해당 파일 열어서 읽기\n",
    "    if os.path.exists(f_name):\n",
    "        with open(f_name, 'r', encoding='utf-8') as f:\n",
    "            f_content = f.read()\n",
    "            print(f_content)\n",
    "    else:\n",
    "        raise FileNotFoundUser(\"수업 내용 정리 파일은 존재하지 않습니다. 새로 만들어 드리겠습니다.\")\n",
    "        # print(\"수업 내용 정리 파일은 존재하지 않습니다. 새로 만들어 드리겠습니다.\")\n",
    "        # w_content = input(\"내용을 입력해주세요: \")\n",
    "        # with open(f_name, 'w', encoding='utf-8') as g:\n",
    "        #     g.write(w_content)\n",
    "        # print(\"해당 내용을 성공적으로 저장했습니다.\")\n",
    "    \n",
    "except FileNotFoundUser as e:\n",
    "        print(e)\n",
    "        #print(\"수업 내용 정리 파일은 존재하지 않습니다. 새로 만들어 드리겠습니다.\")\n",
    "        w_content = input(\"내용을 입력해주세요: \")\n",
    "        with open(f_name, 'w', encoding='utf-8') as g:\n",
    "            g.write(w_content)\n",
    "        print(\"해당 내용을 성공적으로 저장했습니다.\")\n",
    "    \n",
    "print(\"--------------------------------------\")"
   ]
  },
  {
   "cell_type": "code",
   "execution_count": null,
   "id": "57363dad",
   "metadata": {},
   "outputs": [],
   "source": [
    "# 사용자로부터 파일명을 입력 받고, 해당 파일의 내용을 읽어서 출력\n",
    "# - 만약 해당 파일이 존재하지 않으면, 사용자 입력값으로 파일을 직접 생성\n",
    "\n",
    "import os\n",
    "\n",
    "# 1. 파일명 입력 받기\n",
    "try: \n",
    "# 2. 해당 파일 열어서 읽기: 만약 해당 파일 없으면 'FileNotFoundError\" 예외발생\n",
    "    filename = input(\"읽어올 파일명 입력: \")\n",
    "    with open(filename, 'r', encoding='utf-8') as f:\n",
    "        print(f.read())\n",
    "        \n",
    "except FileNotFoundError as e:\n",
    "    print(f'{filename} 파일은 존재하지 않습니다. 새로 만들어 드리겠습니다.')\n",
    "    content = input(\"내용을 입력해 주세요: \")\n",
    "    with open(filename, 'w', encoding='utf-8') as f:\n",
    "        f.write(content)\n",
    "        \n",
    "    print(\"해당 내용을 성공적으로 저장했습니다.\")\n",
    "    \n",
    "    "
   ]
  }
 ],
 "metadata": {
  "kernelspec": {
   "display_name": "Python 3",
   "language": "python",
   "name": "python3"
  },
  "language_info": {
   "codemirror_mode": {
    "name": "ipython",
    "version": 3
   },
   "file_extension": ".py",
   "mimetype": "text/x-python",
   "name": "python",
   "nbconvert_exporter": "python",
   "pygments_lexer": "ipython3",
   "version": "3.13.9"
  }
 },
 "nbformat": 4,
 "nbformat_minor": 5
}
