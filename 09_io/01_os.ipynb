{
 "cells": [
  {
   "cell_type": "markdown",
   "id": "7a07af65",
   "metadata": {},
   "source": [
    "# os\n",
    "- 파이썬 프로세스에서 system(os) 자원에 접근할 수 있도록 하는 모듈\n",
    "\n",
    "\n",
    "\n",
    "\n",
    "(프로그램: 컴퓨터가 인식할 수 있는 명령어의 나열 (in/out이 정의된 코드들의 집합) \n",
    " 프로세스: 실제로 실행중인 프로그램)"
   ]
  },
  {
   "cell_type": "code",
   "execution_count": null,
   "id": "fd6aadad",
   "metadata": {},
   "outputs": [
    {
     "name": "stdout",
     "output_type": "stream",
     "text": [
      "c:\\workspace\\7_Python\\09_io\n",
      "['01_os.ipynb']\n",
      "['.git', '.gitignore', '.vscode', '00_basic', '01_variable', '02_data_type', '03_control_flow', '04_function', '05_api', '06_oop', '07_data_structure', '08_module', '09_io', 'yyp_doc_etc', 'zzz_classNotes']\n",
      "['01_hello_python.py', '02_variable.py']\n",
      "['.git', '.gitignore', '0_MoaProject', '1_DB', '2_JAVA', '3_Webfront', '4_Server', '5_Framework', '6_SpringBoot', '7_Python', 'pNotes']\n"
     ]
    }
   ],
   "source": [
    "import os\n",
    "\n",
    "print(os.getcwd()) # current working directory: 현재 실행 중인 디렉토리\n",
    "\n",
    "print(os.listdir('./')) # 현재 디렉토리내의 파일들 listing: ['01_os.ipynb']\n",
    "print(os.listdir('../')) # 부모 디렉토리\n",
    "print(os.listdir('../01_variable')) # ['01_hello_python.py', '02_variable.py']\n",
    "print(os.listdir('../..')) # ['.git', '.gitignore', '0_MoaProject', '1_DB', '2_JAVA', '3_Webfront', '4_Server', '5_Framework', '6_SpringBoot', '7_Python', 'pNotes']\n"
   ]
  },
  {
   "cell_type": "code",
   "execution_count": null,
   "id": "ff5a3f64",
   "metadata": {},
   "outputs": [
    {
     "name": "stdout",
     "output_type": "stream",
     "text": [
      "False\n",
      "False\n",
      "True\n"
     ]
    }
   ],
   "source": [
    "# 파일/디렉토리 여부\n",
    "print(os.path.isfile('../')) # False\n",
    "print(os.path.isfile('../00_basic'))    # False\n",
    "print(os.path.isdir('../00_basic'))     # True\n",
    "\n"
   ]
  },
  {
   "cell_type": "markdown",
   "id": "b11314bd",
   "metadata": {},
   "source": [
    "파이썬의 `os` 모듈은 **운영체제와 상호작용하기 위한 기능**들을 제공하는 표준 라이브러리이다. 디렉터리 및 파일 처리, 환경변수 접근, 경로 처리 등 다양한 기능이 있다.  \n",
    "\n",
    "\n",
    "---\n",
    "\n",
    "\n",
    "## 1. 모듈 임포트\n",
    "```python\n",
    "import os\n",
    "```\n",
    "\n",
    "\n",
    "---\n",
    "\n",
    "\n",
    "## 2. 디렉터리 관련 기능\n",
    "\n",
    "\n",
    "| 기능 | 설명 | 예제 |\n",
    "|------|------|------|\n",
    "| `os.getcwd()` | 현재 작업 디렉토리 반환 | `os.getcwd()` |\n",
    "| `os.chdir(path)` | 작업 디렉토리 변경 | `os.chdir('/path/to/dir')` |\n",
    "| `os.listdir(path='.')` | 디렉토리 내 파일/디렉토리 리스트 | `os.listdir()` |\n",
    "| `os.mkdir(path)` | 디렉토리 1개 생성 | `os.mkdir('test')` |\n",
    "| `os.makedirs(path)` | 중간 경로 포함 여러 디렉토리 생성 | `os.makedirs('a/b/c')` |\n",
    "| `os.rmdir(path)` | 디렉토리 삭제 (비어있어야 함) | `os.rmdir('test')` |\n",
    "| `os.removedirs(path)` | 중간 경로 포함 여러 디렉토리 삭제 | `os.removedirs('a/b/c')` |\n",
    "\n",
    "\n",
    "---\n",
    "\n",
    "\n",
    "## 3. 파일 관련 기능\n",
    "\n",
    "\n",
    "| 기능 | 설명 | 예제 |\n",
    "|------|------|------|\n",
    "| `os.remove(path)` | 파일 삭제 | `os.remove('file.txt')` |\n",
    "| `os.rename(src, dst)` | 파일/디렉토리 이름 변경 | `os.rename('old.txt', 'new.txt')` |\n",
    "| `os.stat(path)` | 파일의 메타정보 | `os.stat('file.txt')` |\n",
    "\n",
    "\n",
    "---\n",
    "\n",
    "\n",
    "## 4. 경로 관련 기능 (`os.path` 하위 모듈)\n",
    "\n",
    "\n",
    "```python\n",
    "import os.path\n",
    "```\n",
    "\n",
    "\n",
    "| 기능 | 설명 | 예제 |\n",
    "|------|------|------|\n",
    "| `os.path.join(a, b)` | 경로 합치기 | `os.path.join('folder', 'file.txt')` |\n",
    "| `os.path.exists(path)` | 존재 여부 확인 | `os.path.exists('file.txt')` |\n",
    "| `os.path.isfile(path)` | 파일 여부 확인 | `os.path.isfile('file.txt')` |\n",
    "| `os.path.isdir(path)` | 디렉토리 여부 확인 | `os.path.isdir('folder')` |\n",
    "| `os.path.abspath(path)` | 절대 경로로 변환 | `os.path.abspath('file.txt')` |\n",
    "| `os.path.basename(path)` | 파일명만 추출 | `os.path.basename('/a/b/c.txt')` |\n",
    "| `os.path.dirname(path)` | 디렉토리 경로만 추출 | `os.path.dirname('/a/b/c.txt')` |\n",
    "| `os.path.splitext(path)` | 확장자 분리 | `os.path.splitext('c.txt') → ('c', '.txt')` |\n",
    "\n",
    "\n",
    "---\n",
    "\n",
    "\n",
    "## 5. 환경 변수\n",
    "\n",
    "\n",
    "| 기능 | 설명 | 예제 |\n",
    "|------|------|------|\n",
    "| `os.environ` | 환경 변수 딕셔너리 | `os.environ['PATH']` |\n",
    "| `os.getenv('KEY')` | 환경 변수 조회 | `os.getenv('HOME')` |\n",
    "| `os.putenv('KEY', 'value')` | 환경 변수 설정 | `os.putenv('TEST', '123')` *(비추천, `os.environ` 직접 수정 권장)* |\n",
    "\n",
    "\n",
    "---\n",
    "\n",
    "\n",
    "## 6. 실행 관련\n",
    "\n",
    "\n",
    "| 기능 | 설명 | 예제 |\n",
    "|------|------|------|\n",
    "| `os.system(cmd)` | 터미널 명령 실행 | `os.system('ls')` |\n",
    "| `os.startfile(path)` *(Windows)* | 파일 실행 | `os.startfile('file.pdf')` |\n",
    "\n",
    "\n",
    "---\n",
    "\n",
    "\n",
    "## 7. 예시\n",
    "\n",
    "\n",
    "```python\n",
    "import os\n",
    "\n",
    "\n",
    "print(\"현재 디렉토리:\", os.getcwd())\n",
    "print(\"파일 목록:\", os.listdir())\n",
    "\n",
    "\n",
    "if not os.path.exists('test_folder'):\n",
    "    os.mkdir('test_folder')\n",
    "\n",
    "\n",
    "file_path = os.path.join('test_folder', 'hello.txt')\n",
    "with open(file_path, 'w') as f:\n",
    "    f.write('hello world!')\n",
    "\n",
    "\n",
    "print(\"파일 생성됨:\", os.path.exists(file_path))\n",
    "```\n",
    "\n",
    "\n",
    "---\n"
   ]
  },
  {
   "cell_type": "code",
   "execution_count": 3,
   "id": "4fd1744b",
   "metadata": {},
   "outputs": [],
   "source": [
    "import os\n"
   ]
  },
  {
   "cell_type": "code",
   "execution_count": 4,
   "id": "b45e3240",
   "metadata": {},
   "outputs": [],
   "source": [
    "os.startfile('C:\\\\workspace\\\\7_Python\\\\zzz_classNotes\\\\notion_수업자료_python\\\\09_함수.pdf') \n",
    "# ==> 09_함수.pdf을 windows 환경에서 연결된 프로그램으로 실행시킨다.=> 여기서는 Edge로 pdf연다."
   ]
  }
 ],
 "metadata": {
  "kernelspec": {
   "display_name": "Python 3",
   "language": "python",
   "name": "python3"
  },
  "language_info": {
   "codemirror_mode": {
    "name": "ipython",
    "version": 3
   },
   "file_extension": ".py",
   "mimetype": "text/x-python",
   "name": "python",
   "nbconvert_exporter": "python",
   "pygments_lexer": "ipython3",
   "version": "3.13.9"
  }
 },
 "nbformat": 4,
 "nbformat_minor": 5
}
