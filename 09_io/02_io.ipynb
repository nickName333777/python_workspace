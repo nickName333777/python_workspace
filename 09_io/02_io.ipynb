{
 "cells": [
  {
   "cell_type": "code",
   "execution_count": 1,
   "id": "29042596",
   "metadata": {},
   "outputs": [
    {
     "name": "stdout",
     "output_type": "stream",
     "text": [
      "a\n"
     ]
    }
   ],
   "source": [
    "print('a')"
   ]
  },
  {
   "cell_type": "markdown",
   "id": "82e6f5b2",
   "metadata": {},
   "source": [
    "# IO\n",
    "\n",
    "- Input/Output 기능을 위한 모듈\n",
    " (Input: 파일, network 요청, ....)\n"
   ]
  },
  {
   "cell_type": "markdown",
   "id": "e6af8c96",
   "metadata": {},
   "source": [
    "## 파일 쓰기"
   ]
  },
  {
   "cell_type": "code",
   "execution_count": null,
   "id": "4260b118",
   "metadata": {},
   "outputs": [
    {
     "name": "stdout",
     "output_type": "stream",
     "text": [
      "<_io.TextIOWrapper name='./helloworld.txt' mode='w' encoding='utf-8'> <class '_io.TextIOWrapper'>\n"
     ]
    }
   ],
   "source": [
    "# open(파일경로, 모드, **options)\n",
    "# - 경로 : 현재경로 ./ 생략가능\n",
    "# - 모드 w : write\n",
    "# - \n",
    "\n",
    "f = open('./helloworld.txt', 'w', encoding='utf-8')\n",
    "print(f, type(f)) # <_io.TextIOWrapper name='./helloworld.txt' mode='w' encoding='utf-8'> <class '_io.TextIOWrapper'>\n",
    "\n",
    "f.write(\"\"\"\n",
    "Hello\n",
    "World\n",
    "🍟🍕🍔\n",
    "        \"\"\")\n",
    "\n",
    "# 외부와 연결된 것은(여기서는 파일) 사용후 반드시 반환해 주어야 한다\n",
    "f.close() # flush() & close()"
   ]
  },
  {
   "cell_type": "code",
   "execution_count": 7,
   "id": "65c2b3e5",
   "metadata": {},
   "outputs": [],
   "source": [
    "# with절 파일 열기/닫기\n",
    "with open('./helloworld.txt', 'w', encoding='utf-8') as f:\n",
    "    f.write(\"\"\"1\n",
    "Goodbye\n",
    "World            \n",
    "2            \"\"\") # 자동 flush + 자동 close\n",
    "    \n",
    "# \"with\"절 => buffer 남아있는것 자동 flush()해주고, 파일도 자동 close()해준다"
   ]
  },
  {
   "cell_type": "markdown",
   "id": "15cd7f2e",
   "metadata": {},
   "source": [
    "# 파일 읽기"
   ]
  },
  {
   "cell_type": "code",
   "execution_count": null,
   "id": "d73ed92f",
   "metadata": {},
   "outputs": [
    {
     "name": "stdout",
     "output_type": "stream",
     "text": [
      "1\n",
      "Goodbye\n",
      "World            \n",
      "2            \n"
     ]
    }
   ],
   "source": [
    "# 모드 r : read 읽기 전용\n",
    "# -> 파일이 존재하지 않으면 FileNotFoundError 발생한다.\n",
    "with open('helloworld.txt', 'r', encoding ='utf-8') as f:\n",
    "    text = f.read() # 전부 읽어 오기\n",
    "    print(text) \n",
    "                # 1\n",
    "                # Goodbye\n",
    "                # World\n",
    "                # 2"
   ]
  },
  {
   "cell_type": "code",
   "execution_count": null,
   "id": "bfe9b3ff",
   "metadata": {},
   "outputs": [
    {
     "name": "stdout",
     "output_type": "stream",
     "text": [
      "0 1\n",
      "1 Goodbye\n",
      "2 World            \n",
      "3 2            "
     ]
    }
   ],
   "source": [
    "with open('helloworld.txt', 'r', encoding='utf-8') as f:\n",
    "    # for line in f: # 한 라인씩 읽기\n",
    "    #     # print(line) # print()개행이 추가된다.\n",
    "    #     print(line, end=\"\")\n",
    "       \n",
    "    # ==> 일단 한번 iterate하고 나면 남아 있는것 없다.\n",
    "    \n",
    "        \n",
    "    for idx, line in enumerate(f): # 한 라인씩 읽기\n",
    "        # print(line) # print()개행이 추가된다.\n",
    "        print(idx, line, end=\"\")        "
   ]
  },
  {
   "cell_type": "code",
   "execution_count": 14,
   "id": "757f3cca",
   "metadata": {},
   "outputs": [],
   "source": [
    "# 파일 이어쓰기\n",
    "# - mode : a (append)\n",
    "with open('helloworld.txt', 'a', encoding='utf-8') as f:\n",
    "    f.write(\"\"\"\n",
    "🚜🏍🚍🎃🥼            \n",
    "😁😆😛\n",
    "            \"\"\")"
   ]
  },
  {
   "cell_type": "markdown",
   "id": "319ea9c1",
   "metadata": {},
   "source": [
    "# 파일 복사"
   ]
  },
  {
   "cell_type": "markdown",
   "id": "eaca9403",
   "metadata": {},
   "source": []
  },
  {
   "cell_type": "code",
   "execution_count": null,
   "id": "5cf38376",
   "metadata": {},
   "outputs": [],
   "source": [
    "# 파일 복사\n",
    "\n",
    "# 1. 파일 읽기 -> helloworld.txt\n",
    "with open('helloworld.txt', 'r', encoding='utf-8') as f:\n",
    "    text = f.read() # 전체 읽기\n",
    "    \n",
    "# 2. 파일 쓰기 -> helloword_copy.txt\n",
    "with open('helloworld_copy.txt', 'w', encoding='utf-8') as g:\n",
    "    g.write(text)\n",
    "\n"
   ]
  },
  {
   "cell_type": "markdown",
   "id": "7923ebe2",
   "metadata": {},
   "source": [
    "# 이미지 복사하기"
   ]
  },
  {
   "cell_type": "code",
   "execution_count": null,
   "id": "f9cac783",
   "metadata": {},
   "outputs": [],
   "source": [
    "# 이미지 복사하기\n",
    "# 모드 rb : r(읽기), b(binary, 텍스트가 아닌 원시 데이터) => binary전용 읽기 모드\n",
    "# 모드 wb : => binary전용 쓰기모드\n",
    "with open(\"C:\\\\workspace\\\\7_Python\\\\zzz_classNotes\\\\notion_수업자료_python\\\\image_ks.jpg\", 'rb') as f:\n",
    "    #print(f.read())\n",
    "    image = f.read()\n",
    "    \n",
    "with open('cute.jpg', 'wb') as g:\n",
    "    g.write(image)"
   ]
  },
  {
   "cell_type": "markdown",
   "id": "7506e55b",
   "metadata": {},
   "source": [
    "# dict-csv 읽고 쓰기"
   ]
  },
  {
   "cell_type": "code",
   "execution_count": 19,
   "id": "25732a03",
   "metadata": {},
   "outputs": [],
   "source": [
    "users = [\n",
    "    {\"id\": 100, \"name\": \"홍길동\", \"email\": \"honggd@naver.com\"},\n",
    "    {\"id\": 200, \"name\": \"신사임당\", \"email\": \"sinsa@naver.com\"},\n",
    "    {\"id\": 300, \"name\": \"논개\", \"email\": \"nondog@gmail.com\"},\n",
    "]"
   ]
  },
  {
   "cell_type": "code",
   "execution_count": null,
   "id": "e8ad6cb4",
   "metadata": {},
   "outputs": [],
   "source": [
    "import csv\n",
    "\n",
    "with open('users.csv', 'w', encoding='utf-8', newline=\"\") as f:\n",
    "    #f.write(users)\n",
    "    # dict -> csv로\n",
    "    writer = csv.DictWriter(f, fieldnames=[\"id\", \"name\", \"email\"])\n",
    "    writer.writeheader() # 컬럼명 헤더를 쓰겠다: fieldnames=[\"id\", \"name\", \"email\"]을 헤더로 쓰겠다는 말\n",
    "    \n",
    "    # 여러줄 쓰기\n",
    "    #writer.writerows(users) # 행들을 쓰겠다. ==> 한번에 여러줄을 썼다\n",
    "    \n",
    "    # for문으로 한줄씩 쓰기 (결과값은 같다)\n",
    "    for user in users:\n",
    "        writer.writerow(user)\n",
    "    "
   ]
  },
  {
   "cell_type": "code",
   "execution_count": null,
   "id": "2df9c5bd",
   "metadata": {},
   "outputs": [
    {
     "name": "stdout",
     "output_type": "stream",
     "text": [
      "<csv.DictReader object at 0x000001C508FAB950> <class 'csv.DictReader'>\n",
      "[{'id': '100', 'name': '홍길동', 'email': 'honggd@naver.com'}, {'id': '200', 'name': '신사임당', 'email': 'sinsa@naver.com'}, {'id': '300', 'name': '논개', 'email': 'nondog@gmail.com'}]\n",
      "[]\n"
     ]
    }
   ],
   "source": [
    "with open('users.csv', 'r', encoding='utf-8') as f:\n",
    "    # csv -> dict로\n",
    "    reader = csv.DictReader(f)\n",
    "    print(reader, type(reader)) # <csv.DictReader object at 0x000001C508FAB950> <class 'csv.DictReader'>\n",
    "    print(list(reader)) # [{'id': '100', 'name': '홍길동', 'email': 'honggd@naver.com'}, {'id': '200', 'name': '신사임당', 'email': 'sinsa@naver.com'}, {'id': '300', 'name': '논개', 'email': 'nondog@gmail.com'}]\n",
    "    \n",
    "    # result = []\n",
    "    # for row in reader:\n",
    "    #     print(row, type(row))\n",
    "    #     result.append(row)\n",
    "    # print(result)\n",
    "    \n",
    "    #### list 내포로\n",
    "    users = [ row for row in reader ]\n",
    "    print(users)\n",
    "        \n",
    "\n"
   ]
  }
 ],
 "metadata": {
  "kernelspec": {
   "display_name": "Python 3",
   "language": "python",
   "name": "python3"
  },
  "language_info": {
   "codemirror_mode": {
    "name": "ipython",
    "version": 3
   },
   "file_extension": ".py",
   "mimetype": "text/x-python",
   "name": "python",
   "nbconvert_exporter": "python",
   "pygments_lexer": "ipython3",
   "version": "3.13.9"
  }
 },
 "nbformat": 4,
 "nbformat_minor": 5
}
