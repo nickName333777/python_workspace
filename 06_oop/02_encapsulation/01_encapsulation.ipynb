{
 "cells": [
  {
   "cell_type": "markdown",
   "id": "ce9cbbf4",
   "metadata": {},
   "source": [
    "# 캡슐화\n",
    "- 속성/메소드를 하나의 클래스에 함께 선언\n",
    "- private 속성(변수) 선언해서 외부에서 직접 접근을 막고,\n",
    "    제공된 메소드를 통해 사용하도록 강제\n",
    "- 캡슐화 원칙을 잘 지켰다면, 주요한 데이터가 외부에 노출되지 않는 은닉효과까지 얻게 된다."
   ]
  },
  {
   "cell_type": "code",
   "execution_count": null,
   "id": "39286e16",
   "metadata": {},
   "outputs": [],
   "source": [
    "class Account:\n",
    "    def __init__(self, username, balance):\n",
    "        #self.username = username\n",
    "        #self.balance = balance\n",
    "        # private 접근 제한\n",
    "        self.__username = username # \"__\" 가 private 역할\n",
    "        self.__balance = balance\n",
    "        \n",
    "        \n",
    "    def info(self): # 각 객체마다 다른 잔액가지고 있으므로, 인스턴스 속성/메소드 사용\n",
    "        #print(f'{self.username}님의 현재 잔액은 {self.balance}원 입니다.')\n",
    "        print(f'{self.__username}님의 현재 잔액은 {self.__balance}원 입니다.')\n",
    "        \n",
    "    def deposit(self, money):\n",
    "        \"\"\" \n",
    "        입금 메소드\n",
    "        - money 유효성 검사\n",
    "        - 잘못된 입금처리 방지\n",
    "        \"\"\"\n",
    "        if money <= 0:\n",
    "            print('입금액이 유효하지 않습니다.')\n",
    "        else :\n",
    "            #self.balance += money\n",
    "            self.__balance += money\n",
    "            print('입금이 정상 처리 되었습니다.')\n",
    "            \n",
    "    def withdraw(self, money):\n",
    "        # 출금액이 0보다 작을 경우: \"출금액이 유효하지 않습니다.\"\n",
    "        # 잔액보다 출금액이 많은 경우 : \"잔액이 부족합니다.\"\n",
    "        # 이외의 경우 : \"출금이 정상처리 되었습니다.\"\n",
    "        if money <= 0:\n",
    "            print(f'출금액이 유효하지 않습니다.')\n",
    "        #elif money > self.__balance:\n",
    "        elif money > self.balance:\n",
    "            print(f'잔액이 부족합니다.')\n",
    "        else:\n",
    "            #self.balance -= money\n",
    "            self.__balance -= money\n",
    "            print(f'출금이 정상처리 되었습니다.')\n",
    "            \n",
    "            "
   ]
  },
  {
   "cell_type": "markdown",
   "id": "2e89a059",
   "metadata": {},
   "source": [
    "### 함수 vs. 메소드\n",
    "\n",
    "함수가 메소드를 포함하는 개념\n",
    "함수중에서 클래스 내부에 있는 애들을 메소드라고 부름 (메소드는 소속(객체안, 클래스안,)이 있다.)\n",
    "어떤 클래스, 객체에 소속되지 않고, 독립적(개별적)으로 수행되는 애들이 함수"
   ]
  },
  {
   "cell_type": "code",
   "execution_count": null,
   "id": "efe0e35f",
   "metadata": {},
   "outputs": [
    {
     "name": "stdout",
     "output_type": "stream",
     "text": [
      "<__main__.Account object at 0x0000029675295950>\n",
      "홍길동 1000000\n",
      "홍길동님의 현재 잔액은 500000원 입니다.\n"
     ]
    }
   ],
   "source": [
    "acc = Account(\"홍길동\", 1_000_000) # Account(\"홍길동\", 1_000_000)로 생성한 객체는 self로 넘겨줌\n",
    "print(acc)\n",
    "print(acc.username, acc.balance)\n",
    "\n",
    "# 입금처리\n",
    "#acc.balance = acc.balance + 500_000 # 홍길동님의 현재 잔액은 1500000원 입니다.\n",
    "#acc.balance = acc.balance * 500_000 # 홍길동님의 현재 잔액은 500000000000원 입니다.\n",
    "acc.balance = acc.balance - 500_000 # 홍길동님의 현재 잔액은 500000원 입니다.\n",
    "        # ==> 이거...외부에서 balance접근하면 않된다 \n",
    "        # ==> 막는 방법필요 (자바는 private 으로 속성 선언하고, getter/setter썼다.)\n",
    "        # ==> deposit(), withdraw()메소드(접근제한된 속성을 간접접근할 수 있도로 해주는 getter/setter같은 메소드)만들고 캡슐화 시킨다 \n",
    "        # => 속성에 대한 접근제한 : __username, __balance (\"__\" prefix 가 속성에 접근제한을 두는 private으로 만들어 준다)\n",
    "acc.info()"
   ]
  },
  {
   "cell_type": "code",
   "execution_count": null,
   "id": "ea8f5e05",
   "metadata": {},
   "outputs": [
    {
     "name": "stdout",
     "output_type": "stream",
     "text": [
      "홍길동님의 현재 잔액은 1000000원 입니다.\n",
      "입금이 정상 처리 되었습니다.\n",
      "홍길동님의 현재 잔액은 1500000원 입니다.\n",
      "출금이 정상처리 되었습니다.\n",
      "홍길동님의 현재 잔액은 700000원 입니다.\n"
     ]
    }
   ],
   "source": [
    "# 홍길동 계좌관리 (캡슐화)\n",
    "acc = Account('홍길동', 1_000_000)\n",
    "acc.info()\n",
    "\n",
    "# 입금처리\n",
    "acc.deposit(500000)\n",
    "acc.info() # 홍길동님의 현재 잔액은 1500000원 입니다.\n",
    "\n",
    "# 출금처리\n",
    "acc.withdraw(800_000)\n",
    "acc.info() # 홍길동님의 현재 잔액은 700000원 입니다."
   ]
  },
  {
   "cell_type": "code",
   "execution_count": 25,
   "id": "1e5be6da",
   "metadata": {},
   "outputs": [],
   "source": [
    "# private 속성 접근\n",
    "acc = Account(\"홍길동\", 1_000_000)\n",
    "#acc.username # AttributeError: 'Account' object has no attribute 'username' (직접접근 않됨)\n",
    "#acc.__username # AttributeError: 'Account' object has no attribute '__username' (직접접근 않됨)\n",
    "\n",
    "#acc.balance # AttributeError: 'Account' object has no attribute 'balance' (직접접근 않됨)\n",
    "# acc.__balance #  AttributeError: 'Account' object has no attribute '__balance' (직접접근 않됨)"
   ]
  },
  {
   "cell_type": "code",
   "execution_count": null,
   "id": "de4753a5",
   "metadata": {},
   "outputs": [],
   "source": []
  }
 ],
 "metadata": {
  "kernelspec": {
   "display_name": "Python 3",
   "language": "python",
   "name": "python3"
  },
  "language_info": {
   "codemirror_mode": {
    "name": "ipython",
    "version": 3
   },
   "file_extension": ".py",
   "mimetype": "text/x-python",
   "name": "python",
   "nbconvert_exporter": "python",
   "pygments_lexer": "ipython3",
   "version": "3.13.9"
  }
 },
 "nbformat": 4,
 "nbformat_minor": 5
}
