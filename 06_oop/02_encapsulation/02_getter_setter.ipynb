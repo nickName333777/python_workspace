{
 "cells": [
  {
   "cell_type": "markdown",
   "id": "8d5386a3",
   "metadata": {},
   "source": [
    "# Getter/Setter 메소드\n",
    "\n",
    "캡슐화된 클래스에서 속성을 제어하기 위한 메소드로써 기본적으로 다음 두 유형이 있다.\n",
    "\n",
    "1. getter : 속성의 값을 읽어내기 위한 메소드\n",
    "\n",
    "2. setter : 속성의 값을 설정하기 위한 메소드"
   ]
  },
  {
   "cell_type": "code",
   "execution_count": null,
   "id": "89f0a3c9",
   "metadata": {},
   "outputs": [],
   "source": [
    "# class명은 관례적으로 파스칼케이싱을 따른다(모든 첫단어를 대문자로) (cf: snake_case => 단어사이를 \"_\" 로 연결한것)\n",
    "# Pascal Case: 각 단어의 첫 글자를 대문자로 쓰고, \n",
    "#              공백없이 이어붙이는 방식\n",
    "# \n",
    "class MyClass:\n",
    "    def __init__(self, value):\n",
    "        self.__value = value\n",
    "        \n",
    "    # 읽기 가능한 속성인 경우 getter 선언\n",
    "    def get_value(self):\n",
    "        return self.__value\n",
    "    \n",
    "    # 쓰기 가능한 속성인 경우 setter 선언\n",
    "    def set_value(self, value):\n",
    "        self.__value = value\n",
    "        \n",
    "    "
   ]
  },
  {
   "cell_type": "code",
   "execution_count": 3,
   "id": "e733a12f",
   "metadata": {},
   "outputs": [
    {
     "name": "stdout",
     "output_type": "stream",
     "text": [
      "15\n",
      "50\n"
     ]
    }
   ],
   "source": [
    "my_class = MyClass(15)\n",
    "\n",
    "# 값 읽기\n",
    "#print(my_class.__value) # 오류: private 필드 직접접근 못함: \n",
    "print(my_class.get_value())\n",
    "\n",
    "# 값 쓰기\n",
    "my_class.set_value(50)\n",
    "print(my_class.get_value())"
   ]
  }
 ],
 "metadata": {
  "kernelspec": {
   "display_name": "Python 3",
   "language": "python",
   "name": "python3"
  },
  "language_info": {
   "codemirror_mode": {
    "name": "ipython",
    "version": 3
   },
   "file_extension": ".py",
   "mimetype": "text/x-python",
   "name": "python",
   "nbconvert_exporter": "python",
   "pygments_lexer": "ipython3",
   "version": "3.13.9"
  }
 },
 "nbformat": 4,
 "nbformat_minor": 5
}
