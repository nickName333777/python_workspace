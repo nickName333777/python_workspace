{
 "cells": [
  {
   "cell_type": "code",
   "execution_count": null,
   "id": "7cd7b186",
   "metadata": {},
   "outputs": [],
   "source": []
  },
  {
   "cell_type": "markdown",
   "id": "5abeb1d1",
   "metadata": {},
   "source": [
    "# OOP\n",
    "\n",
    "Object-Oriented Programming 객체 지향 프로그래밍\n",
    "\n",
    "객체를 중심으로 프로그램을 작성하는 방법론\n",
    "\n",
    "- 변수(속성), 함수(메소드)를 묶어서 하나의 단위로써 프로그래밍\n",
    "- 클래스를 작성 후에 이를 바탕으로 n개의 객체(instance)를 생성할 수 있다.\n"
   ]
  },
  {
   "cell_type": "code",
   "execution_count": 2,
   "id": "b779effb",
   "metadata": {},
   "outputs": [],
   "source": [
    "# 클래스 (객체의 설계도)\n",
    "class Person:  # 자바의 생성자와 같다고 봐라. 클래스 선언: public 클래스명(), 클래스 생성: new 클래스명(), 매개변수 생성자 new Person(\"홍길동\",34)\n",
    "    def __init__(self, name, age): # 매직, 던더 메소드: 객체가 생성될때(만들어질때) 자동으로 불러진다(자동으로 초기화담당). (자바처럼 매개변수 생성자를 명시적으로 호출할 필요 없다.)\n",
    "        \"\"\" 생성자 함수 (객체의 속성 초기화를 담당) \"\"\"\n",
    "        # 현재 객체(self)의 속성을 선언\n",
    "        self.name = name # self는 자바의 this와 비슷하다고 봐라. self는 클래스가 아니라, 클래스로 만들어진 인스턴스(객체)이다.\n",
    "        self.age = age \n",
    "        \n",
    "    def greeting(self): # 객체 self를 전달받음\n",
    "        print(f'안녕하세요. 저는 {self.name}이고, {self.age}살 입니다.')"
   ]
  },
  {
   "cell_type": "code",
   "execution_count": 4,
   "id": "aebc2016",
   "metadata": {},
   "outputs": [
    {
     "name": "stdout",
     "output_type": "stream",
     "text": [
      "<__main__.Person object at 0x00000155CC5B1810> <class '__main__.Person'>\n",
      "<__main__.Person object at 0x00000155CC5B1450> <class '__main__.Person'>\n",
      "홍길동 33\n",
      "안녕하세요. 저는 홍길동이고, 33살 입니다.\n",
      "신사임당 48\n",
      "안녕하세요. 저는 신사임당이고, 48살 입니다.\n"
     ]
    }
   ],
   "source": [
    "hong = Person(\"홍길동\", 33) # 객체 생성시, \"new\" 없다\n",
    "sinsa = Person(\"신사임당\", 48)\n",
    "\n",
    "print(hong, type(hong)) # <class '__main__.Person'>\n",
    "print(sinsa, type(sinsa)) # -> 현재 실행중인 파일(main)안에 정의된 Person 클래스\n",
    "\n",
    "print(hong.name, hong.age)\n",
    "hong.greeting()\n",
    "\n",
    "print(sinsa.name, sinsa.age)\n",
    "sinsa.greeting()"
   ]
  },
  {
   "cell_type": "markdown",
   "id": "9084ddc5",
   "metadata": {},
   "source": [
    "## 속성/메소드\n",
    "\n",
    "* 클래스 속성 : 인스턴스 간에 공요될 수 있는 속성\n",
    "* 클래스 메소드 : 인스턴스 간에 공유될 수 있는 메소드\n",
    "* 인스턴스 속성 : 인스턴스마다 달라지는 속성\n",
    "* 인스턴스 메소드: 인스턴스 속성에 대해 처리하는 메소드\n"
   ]
  },
  {
   "cell_type": "code",
   "execution_count": null,
   "id": "96b9ecbf",
   "metadata": {},
   "outputs": [],
   "source": [
    "class jrStudent:\n",
    "    # 클래스 속성\n",
    "    course_name = '빅데이터반' # 클래스 속성이므로 self필요없다.\n",
    "    \n",
    "    def __init__(self, name, classroom):\n",
    "        # 인스턴스 속성\n",
    "        self.name = name\n",
    "        self.classroom = classroom\n",
    "        \n",
    "    # 인스턴스 메소드 (인스턴스 속성으로 함수만들었음)\n",
    "    def greeting(self):\n",
    "        print(f'안녕하세요. {self.name}이고 강의실은 {self.classroom}호 입니다.')\n",
    "        \n",
    "    # 자바는 3가지 메모리 영역에 올라가지만(stack, heap, static),  파이썬은모두다 객체 -> 모두 heap(객체의 heap 주소저장필요)에 올라간다, 그리고 변수는 stack이 아니라 namesapce에 저장되어 heap주소값을 참조한다)\n",
    "    \n",
    "    # 클래스메소드 (클래스가가진 cousre_name속성(cls.course_name)을 이용: 이때 @classmethod를 붙여주어야함)\n",
    "    @classmethod # 데코레이터 (함수를 꾸며주는 역할을 하는 친구)\n",
    "    def good_morning(cls):\n",
    "        print(f'{cls.course_name} 여러분, 좋은 아침입니다~')\n",
    "        \n",
    "    #  @classmethod역할 예시:  jrStudent.good_morning() 호출 -> jrStudent.good_morning(cls =jrStudent) 로 알아서 바꾸어줌\n",
    "        \n",
    "    # 정적 메소드    \n",
    "    @staticmethod # 데코레이터 (함수를 꾸며주는 역할): 'name'값만 받아쓰면 될때 @staticmethod쓴다 (not self.name nor cls.name)\n",
    "    def good_bye(name): #  객체나, 클래스 관계없이 (상대가 필요없이) name값만 전달받아 쓸때\n",
    "        print(f'{name}님, 오늘도 수고하셨습니다.')\n",
    "    \n",
    "    #  @staticmethod역할 예시: self필요앖는 함수고, 클래스나 인스턴스와는 무관하다고 명시적으로 알려줌(자바의 override 연상해볼것),\n",
    "    #                         => 이 데코레이터 없어도 실행은 된다(?, 이때 파이썬이 자동으로 self넣어준다 -> 이게 뒤에서 오류 일으킬수 잇다)\n",
    "    "
   ]
  },
  {
   "cell_type": "code",
   "execution_count": null,
   "id": "baf5fdb6",
   "metadata": {},
   "outputs": [
    {
     "name": "stdout",
     "output_type": "stream",
     "text": [
      "<class '__main__.jrStudent'> <class 'type'>\n",
      "<__main__.jrStudent object at 0x00000155CC5B1450> <class '__main__.jrStudent'>\n",
      "<__main__.jrStudent object at 0x00000155CC53B230> <class '__main__.jrStudent'>\n"
     ]
    }
   ],
   "source": [
    "# 인스턴스 생성 : 객체생성을 해줘야 인스턴스 속성 접근할 수 있다.\n",
    "hong = jrStudent(\"홍길동\", 903)\n",
    "sinsa = jrStudent(\"신사임당\", 902)\n",
    "\n",
    "# 클래스 객체: 클래스도 객체라서 이미 heap에 올라가 있으므로 객체생성없이 바로 클래스(&클래스속성,메소드) 접근 가능하다.\n",
    "print(jrStudent, type(jrStudent)) # <class '__main__.jrStudent'> <class 'type'>\n",
    "\n",
    "print(hong, type(hong)) # <__main__.jrStudent object at 0x00000155CC5B1450> <class '__main__.jrStudent'>\n",
    "print(sinsa, type(sinsa)) # <__main__.jrStudent object at 0x00000155CC53B230> <class '__main__.jrStudent'>\n"
   ]
  },
  {
   "cell_type": "code",
   "execution_count": null,
   "id": "498cb78d",
   "metadata": {},
   "outputs": [
    {
     "name": "stdout",
     "output_type": "stream",
     "text": [
      "빅데이터반\n",
      "빅데이터반 여러분, 좋은 아침입니다~\n",
      "김길동님, 오늘도 수고하셨습니다.\n"
     ]
    }
   ],
   "source": [
    "# 클래스 속성/메소드\n",
    "print(jrStudent.course_name) # 자바에서는 클래스가 가진 속성쓰려면 반드시 객체생성해야했지만, 파이썬은 클래스도 객체(이미메모리상에 올라갔음)이므로 객체생성 없이 클래스 속성 접근 가능\n",
    "                                # 단, 파이선의 인스턴스 메소드는 self값이 있어야 하므로 객체생성이 먼저 있어야, 인스턴스 속성 접근 가능\n",
    "                                \n",
    "jrStudent.good_morning()    # 클래스도 객체이므로 이미 heap에 주소올라가 있으므로, 겍체생성없이 class메서드/class속성 사용\n",
    "jrStudent.good_bye(\"김길동\") # 객체 생성없이, staticmethod를 사용\n",
    "\n",
    " "
   ]
  },
  {
   "cell_type": "markdown",
   "id": "72883448",
   "metadata": {},
   "source": [
    "### 언제 인스턴스 속성만들고: 객체마다 달라지는 값은 인스턴스 속성쓰고\n",
    "### 언제 클래스 속성 만드나: 객체 전부 다 에서 똑같은 값을 가질째는 클래스 속성으로 쓴다."
   ]
  },
  {
   "cell_type": "code",
   "execution_count": null,
   "id": "4bb26a8b",
   "metadata": {},
   "outputs": [],
   "source": []
  },
  {
   "cell_type": "markdown",
   "id": "5f67eadd",
   "metadata": {},
   "source": [
    "## 겍체지향 원칙(4가지)\n",
    "1. 상속\n",
    "    - 부모 클래스에 선언된 속성/메소드를 자식클래스에서 선언없이 사용하는 것\n",
    "    - 코드 재사용성이 좋다.\n",
    "\n",
    "2. 캡슐화\n",
    "    - 속성/메소드를 묶어서 선언\n",
    "    - 속성의 직접적인 접근을 막고 메소드를 통한 사용만 허용한다. (getter, setter,...)\n",
    "\n",
    "3. 다형성\n",
    "    - 상속에 기반한 기술. 여러 자식 클래스를 부모타입으로 제어하는 것\n",
    "    \n",
    "\n",
    "4. 추상화\n",
    "    - 공통된, 보편적인 속성/메서드를 추출해 내는 것 또는 이를 통해 제어하는 것"
   ]
  }
 ],
 "metadata": {
  "kernelspec": {
   "display_name": "Python 3",
   "language": "python",
   "name": "python3"
  },
  "language_info": {
   "codemirror_mode": {
    "name": "ipython",
    "version": 3
   },
   "file_extension": ".py",
   "mimetype": "text/x-python",
   "name": "python",
   "nbconvert_exporter": "python",
   "pygments_lexer": "ipython3",
   "version": "3.13.9"
  }
 },
 "nbformat": 4,
 "nbformat_minor": 5
}
