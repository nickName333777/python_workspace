{
 "cells": [
  {
   "cell_type": "markdown",
   "id": "961d9e72",
   "metadata": {},
   "source": [
    "## 객체지향에서 객체간의 Is-a / Has-a 관계 파악필요: Is-a는 상속관계, Has-a는 포함관계로 클래스 정의 할때 상속받을지, 아니면 생성자 __init__()에 포함시킬지를 결정하기위함의 차이가 있다."
   ]
  },
  {
   "cell_type": "markdown",
   "id": "c567100c",
   "metadata": {},
   "source": [
    "# Has-a 포함관계 \n",
    "\n",
    "- 하나의 클래스가 다른 클래스를 속성으로 가지고 있는 경우\n",
    "- A has a B 성립하는 경우\n"
   ]
  },
  {
   "cell_type": "code",
   "execution_count": null,
   "id": "5d260d8c",
   "metadata": {},
   "outputs": [
    {
     "name": "stdout",
     "output_type": "stream",
     "text": [
      "Driving...\n",
      "Done\n"
     ]
    }
   ],
   "source": [
    "class Engine:\n",
    "    def __init__(self, horse_power):\n",
    "        #self.horse_power = horse_power\n",
    "        self.__horse_power = horse_power\n",
    "        \n",
    "    def start_engine(self):\n",
    "        pass\n",
    "    \n",
    "    def stop_engine(self):\n",
    "        pass\n",
    "    \n",
    "    \n",
    "class Car: # Car has a Engine (Car가 Engine을 상속받는다는 것은 좀 이상하다. Car is NOT a Engine: 상속받아쓸수는 있지만, 현실세계의 개념과는 동떨어져 있다.)\n",
    "    def __init__(self, name:str, engine: Engine):\n",
    "        #self.name = name\n",
    "        #self.engine = engine\n",
    "        self.__name = name\n",
    "        self.__engine = engine\n",
    "        \n",
    "    def drive(self):\n",
    "        #self.engine.start_engine()\n",
    "        self.__engine.start_engine() # 가지고 있는 Engine에 있는 메소드를 접근/사용\n",
    "        print(\"Driving...\")\n",
    "        #self.engine.stop_engine()\n",
    "        self.__engine.stop_engine()\n",
    "        print(\"Done\")\n",
    "        \n",
    "        \n",
    "c = Car('포르쉐', Engine(100) ) # Car가 Engine을 가지고 생성가능\n",
    "c.drive()"
   ]
  },
  {
   "cell_type": "code",
   "execution_count": null,
   "id": "9738a58f",
   "metadata": {},
   "outputs": [
    {
     "name": "stdout",
     "output_type": "stream",
     "text": [
      "Car2 Driving...\n",
      "Car2 Done...\n"
     ]
    }
   ],
   "source": [
    "class Car2(Engine): # Car가 Engine을 상속받아 코드는 문제없이 돌아간다. 하지만 Car is a Engine 는 현실의 개념과 동떨어짐\n",
    "    def __init__(self, name:str):\n",
    "        #self.name = name\n",
    "        self.__name = name\n",
    "        \n",
    "    def drive(self):\n",
    "        self.start_engine() # Engine상속받았으므로, 자식 Car가 Engine의 메소드를 자유롭게 접근/사용가능 \n",
    "        print(\"Car2 Driving...\")\n",
    "        self.stop_engine()\n",
    "        print(\"Car2 Done...\")\n",
    "        \n",
    "c2 = Car2('테슬라')\n",
    "c2.drive()"
   ]
  },
  {
   "cell_type": "markdown",
   "id": "15aebba7",
   "metadata": {},
   "source": [
    "# Is-a 상속관계\n",
    "- 하나의 클래스가 다른 클래스를 상속하는 경우\n",
    "- A is a B 성립하는 경우"
   ]
  },
  {
   "cell_type": "code",
   "execution_count": null,
   "id": "8309a90a",
   "metadata": {},
   "outputs": [
    {
     "name": "stdout",
     "output_type": "stream",
     "text": [
      "<__main__.Taxi object at 0x000002C5EAEC17F0>\n",
      "Driving...\n",
      "Done\n"
     ]
    }
   ],
   "source": [
    "class Taxi(Car):\n",
    "    #def __init__(self, name, car): # 택시는 engine을 가지고 있고, 택시는 Car의 한 종류일 뿐이다.\n",
    "    def __init__(self, name:str, engine:Engine, type:str): \n",
    "        #self.name = name\n",
    "        #self.car = car\n",
    "        #self.__name = name\n",
    "        #self.__car = car\n",
    "        super().__init__(name, engine)\n",
    "        #self.type = type\n",
    "        self.__type = type\n",
    "        \n",
    "    #def drive(self):\n",
    "    #    self.car.drive() # 이렇게 쓸수는 있지만, 택시가 Car를 가지고 있다는 개념은 현실에서 어색함 => 택시는 Car가 맞다가 더 현실에 적합한 개념\n",
    "    \n",
    "    \n",
    "taxi = Taxi('소나타', Engine(200), '개인')\n",
    "print(taxi) #  <__main__.Taxi object at 0x000002C5EAEC1940>\n",
    "\n",
    "taxi.drive() # Driving... Done"
   ]
  }
 ],
 "metadata": {
  "kernelspec": {
   "display_name": "Python 3",
   "language": "python",
   "name": "python3"
  },
  "language_info": {
   "codemirror_mode": {
    "name": "ipython",
    "version": 3
   },
   "file_extension": ".py",
   "mimetype": "text/x-python",
   "name": "python",
   "nbconvert_exporter": "python",
   "pygments_lexer": "ipython3",
   "version": "3.13.9"
  }
 },
 "nbformat": 4,
 "nbformat_minor": 5
}
