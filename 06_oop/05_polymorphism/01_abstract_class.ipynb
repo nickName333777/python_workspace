{
 "cells": [
  {
   "cell_type": "markdown",
   "id": "3b1c33fd",
   "metadata": {},
   "source": [
    "# 추상 클래스(Abstract Class) \n",
    "\n",
    "- 자식클래스에서 구현해야 할 추상메소드를 가진 부모 클래스 (자바와 유사)\n",
    "- 추상메소드는 자식클래스에서 반드시 구현해야할 의무를 가진다\n",
    "- 추상클래스는 직접 객체화 할 수 없다.\n",
    "- abc.ABC클래스를 상속하면 \"추상클래스\"를 선언할 수 있다(?)\n",
    "- @abstractmethod 데코레이터로 \"추상메소드\"를 선언할 수 있다. (?)"
   ]
  },
  {
   "cell_type": "code",
   "execution_count": null,
   "id": "559f6abb",
   "metadata": {},
   "outputs": [
    {
     "name": "stdout",
     "output_type": "stream",
     "text": [
      "TVcode = samsung-tv-213, name = 삼성 TV, price = 10000000, size = 100\n",
      "1000000.0\n",
      "TVcode = lg-tv, name = LG TV, price = 5000000, size = 100\n",
      "500000.0\n"
     ]
    }
   ],
   "source": [
    "from abc import ABC, abstractmethod\n",
    "\n",
    "class Product(ABC): # 추상클래스 -> 미완성된 메소드를 가진 클래스 (ABC를 상속하므로 추상클래스 선언)\n",
    "    # 상품명, 상품코드, 상품가격 -> 자식마다 다르다\n",
    "    def __init__(self, code, name, price): # 생성자 정의 ==> Product 객체못만드는데, 왜 생성자 정의하는가? ==> 이건 객체생성용이 아니라, 객체 초기화용이다 (super().__init__()위한 것)\n",
    "        self.__code = code\n",
    "        self.__name = name\n",
    "        self.__price = price\n",
    "        \n",
    "    # 추상메소드 -> 따라서 Product를 물려받는 자식 클래스는 무조건 get_tax()를 구현해야 한다\n",
    "    @abstractmethod\n",
    "    def get_tax(self):\n",
    "        pass # 상품마다 다르므로 추상메소드로 놔두고 구현하지 않는다\n",
    "    \n",
    "    def __str__(self):\n",
    "        return f'code = {self.__code}, name = {self.__name}, price = {self.__price}'\n",
    "    \n",
    "    def get_price(self):\n",
    "        return self.__price\n",
    "    \n",
    "    \n",
    "class TV(Product):\n",
    "    def __init__(self, code, name, price, size):\n",
    "        super().__init__(code, name, price) # 부모 생성자를 이용한 초기화\n",
    "        self.__size = size # TV자신것이므로, 따로 초기화\n",
    "        \n",
    "    def __str__(self):\n",
    "        return f'TV{super().__str__()}, size = {self.__size}'\n",
    "        \n",
    "    def get_tax(self):\n",
    "        #return 가격 *0.1\n",
    "        #return super().__price *0.1 # (X) 부모 직접접근 불가 -> getter/setter필요\n",
    "        #return super().get_price() *0.1 # (O) 부모 직접접근 불가하여 getter이용 접근\n",
    "        return self.get_price() *0.1 # (O) 부모 직접접근 불가하여 getter이용 접근\n",
    "        \n",
    "# get_tax 추상 메소드를 구현하지 않은 경우        \n",
    "#tv = TV('samsung-tv-213', '삼성 TV', 10_000_000, 100) # 추상메소드 구현않했을때: TypeError: Can't instantiate abstract class TV without an implementation for abstract method 'get_tax'\n",
    "\n",
    "tv = TV('samsung-tv-213', '삼성 TV', 10_000_000, 100) #  추상메소드 구현했을때: TVcode = samsung-tv-213, name = 삼성 TV, price = 10000000, size = 100\n",
    "print(tv)\n",
    "print(tv.get_tax())\n",
    "\n",
    "\n",
    "# 추상 클래스는 객체화 할 수 없다.\n",
    "#product = Product('1234', '핸드폰', 10000)  # 추상클래스는 미완성 추상 메소드를 가지고 있으므로 객체생성 불가\n",
    "                                            # TypeError: Can't instantiate abstract class Product without an implementation for abstract method 'get_tax'\n",
    "                                        \n",
    "tv2 = TV('lg-tv', 'LG TV', 5_000_000, 100) \n",
    "print(tv2)\n",
    "print(tv2.get_tax())                                       "
   ]
  }
 ],
 "metadata": {
  "kernelspec": {
   "display_name": "Python 3",
   "language": "python",
   "name": "python3"
  },
  "language_info": {
   "codemirror_mode": {
    "name": "ipython",
    "version": 3
   },
   "file_extension": ".py",
   "mimetype": "text/x-python",
   "name": "python",
   "nbconvert_exporter": "python",
   "pygments_lexer": "ipython3",
   "version": "3.13.9"
  }
 },
 "nbformat": 4,
 "nbformat_minor": 5
}
