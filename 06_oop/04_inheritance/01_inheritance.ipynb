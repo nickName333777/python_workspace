{
 "cells": [
  {
   "cell_type": "code",
   "execution_count": 43,
   "id": "3235ca33",
   "metadata": {},
   "outputs": [
    {
     "name": "stdout",
     "output_type": "stream",
     "text": [
      "a\n"
     ]
    }
   ],
   "source": [
    "print(\"a\")"
   ]
  },
  {
   "cell_type": "markdown",
   "id": "925bcfa9",
   "metadata": {},
   "source": [
    "# 상속 Inheritance\n",
    "\n",
    "- 부모 클래스의 속성/메소드를 자식 클래스에서 선언없이 물려받아 사용하는 것\n",
    "- 중복된 속성/메소드를 재작성할 필요 없다.\n",
    "- 자식 클래스를 부모 클래스로 묶어 관리할 수 있다.(?)\n",
    "- 파이썬은 다중 상속 지원"
   ]
  },
  {
   "cell_type": "code",
   "execution_count": 44,
   "id": "4184fdaa",
   "metadata": {},
   "outputs": [
    {
     "name": "stdout",
     "output_type": "stream",
     "text": [
      "Person(name = 홍길동,  phone= 010-78947894)\n"
     ]
    }
   ],
   "source": [
    "class Person:\n",
    "    def __init__(self, name:str, phone:str) -> None: # 이메소드 반환값은 없음, None\n",
    "        self.__name = name\n",
    "        self.__phone = phone\n",
    "        \n",
    "    def hello(self):\n",
    "        print(f'안녕하세요, 저는 {self.__name}이고, 제 연락처는 {self.__phone}입니다. ')\n",
    "        \n",
    "    def get_name(self):\n",
    "        return self.__name\n",
    "    \n",
    "    def get_phone(self):\n",
    "        return self.__phone\n",
    "    \n",
    "    def __str__(self):\n",
    "        return f\"Person(name = {self.__name},  phone= {self.__phone})\"\n",
    "        \n",
    "        \n",
    "person = Person('홍길동', '010-78947894')\n",
    "print(person)    "
   ]
  },
  {
   "cell_type": "code",
   "execution_count": 45,
   "id": "2f9e1eb0",
   "metadata": {},
   "outputs": [
    {
     "name": "stdout",
     "output_type": "stream",
     "text": [
      "Employee(name=홍길동, phone = 010-1234-1234, company = 종로jr)\n",
      "안녕하세요, 저는 홍길동이고, 제 연락처는 010-1234-1234입니다. \n",
      "저는 종로jr에서 일하고 있습니다.\n"
     ]
    }
   ],
   "source": [
    "# 자식클래스명(부모클래스명)\n",
    "\n",
    "class Employee(Person): # Employee가 Person을 extends한것으로 봐라 (extends가 생략되고, 소괄호로 그냥쓴걸로 봐라. 자바와 차이)\n",
    "    def __init__(self, name:str, phone:str, company:str) -> None:\n",
    "        #self.__name = name\n",
    "        #self.__phone = phone # 부모가 가지고 있는 속성들 -> 부모의 생성자 호출로 세팅(자식이 자기 것 처럼 사용)\n",
    "        super().__init__(name, phone) # 부모생성자를 이용한 초기화\n",
    "        self.__company = company\n",
    "        \n",
    "    def get_company(self):\n",
    "        return self.__company\n",
    "    \n",
    "    # 메소드 재작성(method overriding)\n",
    "    # - 물려받은 메소드를 고쳐서 쓰고싶은 경우 작성\n",
    "    def hello(self):\n",
    "        #self.hello() : 재귀호출로, 무한루프에 빠진다... 주의!!\n",
    "        super().hello() # 부모메소드 호출\n",
    "        print(f'저는 {self.__company}에서 일하고 있습니다.')\n",
    "        \n",
    "    def __str__(self):\n",
    "        # 아무리 자식이어도 부모의 private(self.__name)에 직접접근 불가 -> getter, setter이용해야한다\n",
    "        #return f'Employee(name={self.__name}, phone = {self.__phone}, company = {self.__company})' # AttributeError: 'Employee' object has no attribute '_Employee__name'\n",
    "        return f'Employee(name={self.get_name()}, phone = {self.get_phone()}, company = {self.__company})' # Employee(name=홍길동, phone = 010-1234-1234, company = 종로jr)\n",
    "        \n",
    "        \n",
    "employee = Employee(\"홍길동\", \"010-1234-1234\", \"종로jr\")\n",
    "print(employee)\n",
    "\n",
    "#부모의 hello를 참조하고싶을때, super()생성자 이용해서 부모의 메소드 호출\n",
    "employee.hello() # 안녕하세요, 저는 홍길동이고, 제 연락처는 010-1234-1234입니다. \n",
    "                 # 저는 종로jr에서 일하고 있습니다."
   ]
  },
  {
   "cell_type": "code",
   "execution_count": 46,
   "id": "cef8a536",
   "metadata": {},
   "outputs": [
    {
     "name": "stdout",
     "output_type": "stream",
     "text": [
      "안녕하세요, 저는 홍길동이고, 제 연락처는 01012345678입니다. \n",
      "저는 ['python', 'java', 'C++'] 언어를 사용합니다.\n",
      "Dev(name = 홍길동, phone = 01012345678), langs = ['python', 'java', 'C++']\n",
      "javascript이 추가되었습니다\n",
      "Dev(name = 홍길동, phone = 01012345678), langs = ['python', 'java', 'C++', 'javascript']\n",
      "java을 삭제하였습니다\n",
      "Dev(name = 홍길동, phone = 01012345678), langs = ['python', 'C++', 'javascript']\n",
      "java은 존재하지 않습니다.\n",
      "javaaaaaaaaaaa은 존재하지 않습니다.\n",
      "javascript는 이미 추가되어 있습니다.\n",
      "Dev(name = 홍길동, phone = 01012345678), langs = ['python', 'C++', 'javascript']\n"
     ]
    }
   ],
   "source": [
    "# Dev\n",
    "# - Person 상속\n",
    "# - langs  list[str]\n",
    "# - add_lang(lang:str) : 언어 추가\n",
    "# - remove_lang(lang:str) : 언어 삭제\n",
    "\n",
    "class Dev(Person):\n",
    "    def __init__(self, name:str, phone:str, *langs:tuple[str]):\n",
    "        #self.__name = name\n",
    "        #self.__phone = phone\n",
    "        super().__init__(name, phone)\n",
    "        self.__langs = list(langs)\n",
    "        #self.__langs = list(langs) # OK, langs가 packing으로 tuple로 들어오므로, list()로 바꿔줘야함\n",
    "        #self.__langs = [lang for lang in langs] # OK, lang가 packing으로 tuple로 들어오므로, list()로 바꿔줘야함\n",
    "        \n",
    "        self.__langs = []\n",
    "        for lang  in langs:\n",
    "            self.__langs.append(lang)        \n",
    "        \n",
    "    # 이미존재하는 언어인 경우 추가 불가    \n",
    "    def add_lang(self, lang:str):\n",
    "        #if self.__langs.__contains__(lang):\n",
    "        if lang in self.__langs:\n",
    "            print(f\"{lang}는 이미 추가되어 있습니다.\")\n",
    "        else:\n",
    "            self.__langs.append(lang)\n",
    "            print(f\"{lang}이 추가되었습니다\")\n",
    "        \n",
    "    # langs에 존재하지 않으면 삭제 불가\n",
    "    def remove_lang(self, lang:str):\n",
    "        #if not self.__langs.__contains__(lang):\n",
    "        if lang not in self.__langs:\n",
    "            print(f\"{lang}은 존재하지 않습니다.\")\n",
    "        else:\n",
    "            self.__langs.remove(lang)\n",
    "            print(f\"{lang}을 삭제하였습니다\")\n",
    "        \n",
    "    def hello(self):\n",
    "        super().hello()\n",
    "        print(f'저는 {self.__langs} 언어를 사용합니다.')\n",
    "        \n",
    "    def __str__(self): # print(Dev객체)가 출력되는 형식 설정(java의 ToString()오버라이딩과 유사)\n",
    "        return f'Dev(name = {self.get_name()}, phone = {self.get_phone()}), langs = {self.__langs}'\n",
    "\n",
    "\n",
    "\n",
    "dev = Dev(\"홍길동\", '01012345678', 'python', 'java', 'C++')\n",
    "dev.hello()\n",
    "print(dev) # Dev(name = 홍길동, phone = 01012345678), langs = ['python', 'java', 'C++']\n",
    "dev.add_lang('javascript')\n",
    "print(dev) # Dev(name = 홍길동, phone = 01012345678), langs = ['python', 'java', 'C++', 'javascript']\n",
    "dev.remove_lang('java')\n",
    "print(dev) # Dev(name = 홍길동, phone = 01012345678), langs = ['python', 'C++', 'javascript']\n",
    "\n",
    "dev.remove_lang('java') # 존재하는 경우에만 삭제 않되게\n",
    "dev.remove_lang('javaaaaaaaaaaa') # 존재하는 경우에만 삭제 않되게\n",
    "\n",
    "dev.add_lang('javascript') # 이미 존재하는 경우 추가않되게\n",
    "\n",
    "\n",
    "print(dev)"
   ]
  },
  {
   "cell_type": "markdown",
   "id": "8c8b158a",
   "metadata": {},
   "source": [
    "오버로딩: 같은메소드명에 매개변수 타입, 갯수, 순서가 다를때 + 리턴 타입이 다를때"
   ]
  },
  {
   "cell_type": "code",
   "execution_count": null,
   "id": "5d2d864c",
   "metadata": {},
   "outputs": [
    {
     "name": "stdout",
     "output_type": "stream",
     "text": [
      "A의 hello\n",
      "A의 hello\n",
      "[<class '__main__.C'>, <class '__main__.A'>, <class '__main__.B'>, <class 'object'>]\n"
     ]
    }
   ],
   "source": [
    "# 다중 상속\n",
    "\n",
    "class A:\n",
    "    def hello(self):\n",
    "        print(\"A의 hello\")\n",
    "        \n",
    "class B:\n",
    "    def hello(self):\n",
    "        print(\"B의 hello\")\n",
    "        \n",
    "class C(A, B): #  다중 상속시 순서에 따라 A 먼저, 다음 B\n",
    "    #def hello(self):  # C에 메소드 정의된 경우\n",
    "    #    print(\"C의 hello\")\n",
    "    \n",
    "    pass  # C에 메소드 정의 않된 경우\n",
    "    \n",
    "c = C()\n",
    "c.hello()   # C의 hello (C의 hello가 정의 되어 있을때는 C의 hello를 호출(자식 메소드가 부모의 메소드에 우선한다 -> 상속의 원칙), \n",
    "            # C의 hello가 정의되어있지 않으면, 상속받는 부모의 hello를 호출해야하는데, 이때 상속순서가 중요)\n",
    "\n",
    "c.hello() # A의 hello호출 (class C(A, B):의 상속순서일때); 만약 class C(B, A):의 상속순서이면 B의 hello를 호출한다.\n",
    "\n",
    "print(C.mro())  # MRO [Method Resolution Order]\n",
    "                # 메소드(또는 속성)을 찾을 때 어떤 클래스부터 찾을지 정한 순서 (상속 메소드 탐색 순서을 정한 리스트)\n",
    "                # [<class '__main__.C'>, <class '__main__.A'>, <class '__main__.B'>, <class 'object'>]\n"
   ]
  }
 ],
 "metadata": {
  "kernelspec": {
   "display_name": "Python 3",
   "language": "python",
   "name": "python3"
  },
  "language_info": {
   "codemirror_mode": {
    "name": "ipython",
    "version": 3
   },
   "file_extension": ".py",
   "mimetype": "text/x-python",
   "name": "python",
   "nbconvert_exporter": "python",
   "pygments_lexer": "ipython3",
   "version": "3.13.9"
  }
 },
 "nbformat": 4,
 "nbformat_minor": 5
}
