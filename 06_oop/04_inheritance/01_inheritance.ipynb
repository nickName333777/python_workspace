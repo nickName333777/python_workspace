{
 "cells": [
  {
   "cell_type": "code",
   "execution_count": 1,
   "id": "3235ca33",
   "metadata": {},
   "outputs": [
    {
     "name": "stdout",
     "output_type": "stream",
     "text": [
      "a\n"
     ]
    }
   ],
   "source": [
    "print(\"a\")"
   ]
  },
  {
   "cell_type": "markdown",
   "id": "925bcfa9",
   "metadata": {},
   "source": [
    "# 상속 Inheritance\n",
    "\n",
    "- 부모 클래스의 속성/메소드를 자식 클래스에서 선언없이 물려받아 사용하는 것\n",
    "- 중복된 속성/메소드를 재작성할 필요 없다.\n",
    "- 자식 클래스를 부모 클래스로 묶어 관리할 수 있다.(?)"
   ]
  },
  {
   "cell_type": "code",
   "execution_count": 3,
   "id": "4184fdaa",
   "metadata": {},
   "outputs": [
    {
     "name": "stdout",
     "output_type": "stream",
     "text": [
      "Person(name = 홍길동,  phone= 010-78947894)\n"
     ]
    }
   ],
   "source": [
    "class Person:\n",
    "    def __init__(self, name:str, phone:str) -> None: # 이메소드 반환값은 없음, None\n",
    "        self.__name = name\n",
    "        self.__phone = phone\n",
    "        \n",
    "    def hello(self):\n",
    "        print(f'안녕하세요, 저는 {self.__name}이고, 제 연락처는 {self.__phone}입니다. ')\n",
    "        \n",
    "    def get_name(self):\n",
    "        return self.__name\n",
    "    \n",
    "    def get_phone(self):\n",
    "        return self.__phone\n",
    "    \n",
    "    def __str__(self):\n",
    "        return f\"Person(name = {self.__name},  phone= {self.__phone})\"\n",
    "        \n",
    "        \n",
    "person = Person('홍길동', '010-78947894')\n",
    "print(person)    "
   ]
  },
  {
   "cell_type": "code",
   "execution_count": null,
   "id": "2f9e1eb0",
   "metadata": {},
   "outputs": [
    {
     "name": "stdout",
     "output_type": "stream",
     "text": [
      "Employee(name=홍길동, phone = 010-1234-1234, company = 종로jr)\n",
      "안녕하세요, 저는 홍길동이고, 제 연락처는 010-1234-1234입니다. \n",
      "저는 종로jr에서 일하고 있습니다.\n"
     ]
    }
   ],
   "source": [
    "# 자식클래스명(부모클래스명)\n",
    "\n",
    "class Employee(Person): # Employee가 Person을 extends한것으로 봐라\n",
    "    def __init__(self, name:str, phone:str, company:str) -> None:\n",
    "        #self.__name = name\n",
    "        #self.__phone = phone # 부모가 가지고 있는 속성들 -> 부모의 생성자 호출로 세팅(자식이 자기 것 처럼 사용)\n",
    "        super().__init__(name, phone)\n",
    "        self.__company = company\n",
    "        \n",
    "    def get_company(self):\n",
    "        return self.__company\n",
    "    \n",
    "    # 메소드 재작성(method overriding)\n",
    "    # - 물려받은 메소드를 고쳐서 쓰고싶은 경우 작성\n",
    "    def hello(self):\n",
    "        #self.hello() : 재귀호출로, 무한루프에 빠진다... 주의!!\n",
    "        super().hello() # 부모메소드 호출\n",
    "        print(f'저는 {self.__company}에서 일하고 있습니다.')\n",
    "        \n",
    "    def __str__(self):\n",
    "        # 아무리 자식이어도 부모의 private(self.__name)에 직접접근 불가 -> getter, setter이용해야한다\n",
    "        #return f'Employee(name={self.__name}, phone = {self.__phone}, company = {self.__company})' # AttributeError: 'Employee' object has no attribute '_Employee__name'\n",
    "        return f'Employee(name={self.get_name()}, phone = {self.get_phone()}, company = {self.__company})' # Employee(name=홍길동, phone = 010-1234-1234, company = 종로jr)\n",
    "        \n",
    "        \n",
    "employee = Employee(\"홍길동\", \"010-1234-1234\", \"종로jr\")\n",
    "print(employee)\n",
    "\n",
    "#부모의 hello를 참조하고싶을때, super()생성자 이용해서 부모의 메소드 호출\n",
    "employee.hello() # 안녕하세요, 저는 홍길동이고, 제 연락처는 010-1234-1234입니다. \n",
    "                 # 저는 종로jr에서 일하고 있습니다."
   ]
  },
  {
   "cell_type": "code",
   "execution_count": null,
   "id": "cef8a536",
   "metadata": {},
   "outputs": [
    {
     "name": "stdout",
     "output_type": "stream",
     "text": [
      "Dev(name = 홍길동, phone = 01012345678), langs = ['python', 'java', 'C++']\n",
      "Dev(name = 홍길동, phone = 01012345678), langs = ['python', 'java', 'C++', 'javascript']\n",
      "Dev(name = 홍길동, phone = 01012345678), langs = ['python', 'C++', 'javascript']\n"
     ]
    }
   ],
   "source": [
    "# Dev\n",
    "# - Person 상속\n",
    "# - langs  list[str]\n",
    "# - add_lang(lang:str) : 언어 추가\n",
    "# - remove_lang(lang:str) : 언어 삭제\n",
    "\n",
    "class Dev(Person):\n",
    "    def __init__(self, name, phone, *args):\n",
    "        super().__init__(name, phone)\n",
    "        #self.__langs = list(args) # OK, args가 packing으로 tuple로 들어오므로, list()로 바꿔줘야함\n",
    "        self.__langs = []\n",
    "        for arg  in args:\n",
    "            self.__langs.append(arg)        \n",
    "        \n",
    "    def add_lang(self, lang:str):\n",
    "        self.__langs.append(lang)\n",
    "        \n",
    "    def remove_lang(self, lang:str):\n",
    "        self.__langs.remove(lang)\n",
    "        \n",
    "    def __str__(self):\n",
    "        return f'Dev(name = {self.get_name()}, phone = {self.get_phone()}), langs = {self.__langs}'\n",
    "\n",
    "\n",
    "\n",
    "dev = Dev(\"홍길동\", '01012345678', 'python', 'java', 'C++')\n",
    "print(dev) # Dev(name = 홍길동, phone = 01012345678), langs = ['python', 'java', 'C++']\n",
    "dev.add_lang('javascript')\n",
    "print(dev) # Dev(name = 홍길동, phone = 01012345678), langs = ['python', 'java', 'C++', 'javascript']\n",
    "dev.remove_lang('java')\n",
    "print(dev) # Dev(name = 홍길동, phone = 01012345678), langs = ['python', 'C++', 'javascript']"
   ]
  }
 ],
 "metadata": {
  "kernelspec": {
   "display_name": "Python 3",
   "language": "python",
   "name": "python3"
  },
  "language_info": {
   "codemirror_mode": {
    "name": "ipython",
    "version": 3
   },
   "file_extension": ".py",
   "mimetype": "text/x-python",
   "name": "python",
   "nbconvert_exporter": "python",
   "pygments_lexer": "ipython3",
   "version": "3.13.9"
  }
 },
 "nbformat": 4,
 "nbformat_minor": 5
}
